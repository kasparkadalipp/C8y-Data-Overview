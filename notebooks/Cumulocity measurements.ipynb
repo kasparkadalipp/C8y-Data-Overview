{
 "cells": [
  {
   "cell_type": "code",
   "outputs": [],
   "source": [
    "%load_ext autoreload\n",
    "%autoreload 2\n",
    "import calendar\n",
    "from datetime import date\n",
    "from src.cumulocity import measurementsTotal, measurementsFragmentSeries, measurementTypeFragmentSeries, Devices\n",
    "from src.data_overview.statistics import monthlyMeasurementTotal, monthlyMeasurementFragmentSeries, monthlyMeasurementTypeFragmentSeries\n",
    "from src.utils import pathExists, saveToFile"
   ],
   "metadata": {
    "collapsed": false
   },
   "id": "fc71538a04b79f3d",
   "execution_count": null
  },
  {
   "cell_type": "markdown",
   "source": [
    "# Cumulocity Measurements"
   ],
   "metadata": {
    "collapsed": false
   },
   "id": "4731a9bb9e99a8d6"
  },
  {
   "cell_type": "code",
   "outputs": [],
   "source": [
    "dateFrom = date(2024, calendar.MARCH, 1)\n",
    "dateTo = date(2024,  calendar.FEBRUARY, 1)"
   ],
   "metadata": {
    "collapsed": false
   },
   "id": "d2907f7663ced33f",
   "execution_count": null
  },
  {
   "cell_type": "code",
   "outputs": [],
   "source": [
    "if not pathExists('c8y_data.json'):\n",
    "    saveToFile(Devices.requestTotalMeasurements(dateTo).c8y_data, 'c8y_data.json')"
   ],
   "metadata": {
    "collapsed": false
   },
   "id": "f1a6d30168dc88dc",
   "execution_count": null
  },
  {
   "cell_type": "code",
   "outputs": [],
   "source": [
    "measurementsTotal(dateFrom, dateTo)"
   ],
   "metadata": {
    "collapsed": false
   },
   "id": "13276de379a99859",
   "execution_count": null
  },
  {
   "cell_type": "code",
   "outputs": [],
   "source": [
    "measurementsFragmentSeries(dateFrom, dateTo)"
   ],
   "metadata": {
    "collapsed": false
   },
   "id": "db1168ce9cb90fad",
   "execution_count": null
  },
  {
   "cell_type": "code",
   "outputs": [],
   "source": [
    "measurementTypeFragmentSeries(dateFrom, dateTo)"
   ],
   "metadata": {
    "collapsed": false
   },
   "id": "e40a005e88a0f311",
   "execution_count": null
  },
  {
   "cell_type": "code",
   "outputs": [],
   "source": [
    "monthlyMeasurementTotal()\n",
    "monthlyMeasurementFragmentSeries()\n",
    "monthlyMeasurementTypeFragmentSeries()"
   ],
   "metadata": {
    "collapsed": false
   },
   "id": "a2891750cfeeb56a"
  }
 ],
 "metadata": {
  "kernelspec": {
   "display_name": "Python 3",
   "language": "python",
   "name": "python3"
  },
  "language_info": {
   "codemirror_mode": {
    "name": "ipython",
    "version": 2
   },
   "file_extension": ".py",
   "mimetype": "text/x-python",
   "name": "python",
   "nbconvert_exporter": "python",
   "pygments_lexer": "ipython2",
   "version": "2.7.6"
  }
 },
 "nbformat": 4,
 "nbformat_minor": 5
}
