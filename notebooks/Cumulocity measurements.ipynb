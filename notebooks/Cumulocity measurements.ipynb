{
 "cells": [
  {
   "cell_type": "code",
   "outputs": [],
   "source": [
    "%load_ext autoreload\n",
    "%autoreload 2\n",
    "import calendar\n",
    "from datetime import date\n",
    "from src.cumulocity import measurementsTotal, measurementsFragmentSeries, measurementTypeFragmentSeries, Devices\n",
    "from src.data_overview.statistics import monthlyMeasurementTotal, monthlyMeasurementFragmentSeries, monthlyMeasurementTypeFragmentSeries, measurementStatistics\n",
    "from src.data_overview.measurement_schema import createMeasurementFragmentSeriesSchema, createMeasurementTypeFragmentSeriesSchema\n",
    "from src.utils import pathExists, saveToFile"
   ],
   "metadata": {
    "collapsed": false,
    "ExecuteTime": {
     "end_time": "2024-05-25T12:36:52.475188900Z",
     "start_time": "2024-05-25T12:36:51.996040800Z"
    }
   },
   "id": "fc71538a04b79f3d",
   "execution_count": 1
  },
  {
   "cell_type": "markdown",
   "source": [
    "# Cumulocity Measurements"
   ],
   "metadata": {
    "collapsed": false
   },
   "id": "4731a9bb9e99a8d6"
  },
  {
   "cell_type": "code",
   "outputs": [],
   "source": [
    "dateFrom = date(2024, calendar.MARCH, 1)\n",
    "dateTo = date(2024,  calendar.FEBRUARY, 1)"
   ],
   "metadata": {
    "collapsed": false,
    "ExecuteTime": {
     "end_time": "2024-05-24T22:42:29.387180Z",
     "start_time": "2024-05-24T22:42:29.341446200Z"
    }
   },
   "id": "d2907f7663ced33f",
   "execution_count": 2
  },
  {
   "cell_type": "code",
   "outputs": [],
   "source": [
    "if not pathExists('c8y_data.json'):\n",
    "    saveToFile(Devices.requestTotalMeasurements(dateTo).c8y_data, 'c8y_data.json')"
   ],
   "metadata": {
    "collapsed": false,
    "ExecuteTime": {
     "end_time": "2024-05-24T22:42:29.423857900Z",
     "start_time": "2024-05-24T22:42:29.383173600Z"
    }
   },
   "id": "f1a6d30168dc88dc",
   "execution_count": 3
  },
  {
   "cell_type": "code",
   "outputs": [
    {
     "name": "stderr",
     "output_type": "stream",
     "text": [
      "Mar 2024: 100%|██████████| 4361/4361 [time elapsed: 22:12]\n",
      "Feb 2024: 100%|██████████| 4361/4361 [time elapsed: 21:57]\n"
     ]
    }
   ],
   "source": [
    "measurementsTotal(dateFrom, dateTo)"
   ],
   "metadata": {
    "collapsed": false,
    "ExecuteTime": {
     "end_time": "2024-05-24T23:26:40.059743900Z",
     "start_time": "2024-05-24T22:42:29.425857500Z"
    }
   },
   "id": "13276de379a99859",
   "execution_count": 4
  },
  {
   "cell_type": "code",
   "outputs": [
    {
     "name": "stderr",
     "output_type": "stream",
     "text": [
      "Mar 2024: 100%|██████████| 4361/4361 [time elapsed: 3:17:22]\n",
      "Feb 2024: 100%|██████████| 4361/4361 [time elapsed: 3:15:10]\n"
     ]
    }
   ],
   "source": [
    "measurementsFragmentSeries(dateFrom, dateTo)"
   ],
   "metadata": {
    "collapsed": false,
    "ExecuteTime": {
     "end_time": "2024-05-25T05:59:16.442269600Z",
     "start_time": "2024-05-24T23:26:40.059743900Z"
    }
   },
   "id": "db1168ce9cb90fad",
   "execution_count": 5
  },
  {
   "cell_type": "code",
   "outputs": [
    {
     "name": "stderr",
     "output_type": "stream",
     "text": [
      "Mar 2024: 100%|██████████| 4361/4361 [time elapsed: 2:26:05]\n",
      "Feb 2024: 100%|██████████| 4361/4361 [time elapsed: 1:33:43]\n"
     ]
    }
   ],
   "source": [
    "measurementTypeFragmentSeries(dateFrom, dateTo)"
   ],
   "metadata": {
    "collapsed": false,
    "ExecuteTime": {
     "end_time": "2024-05-25T09:59:10.941254Z",
     "start_time": "2024-05-25T05:59:16.446773100Z"
    }
   },
   "id": "e40a005e88a0f311",
   "execution_count": 6
  },
  {
   "cell_type": "code",
   "outputs": [
    {
     "name": "stdout",
     "output_type": "stream",
     "text": [
      "Total measurements from monthly measurement: 27,954,186\n",
      "Total measurements from monthly fragment + series: 32,714,081\n",
      "Total measurements from monthly fragment + series + type: 32,714,081\n"
     ]
    }
   ],
   "source": [
    "monthlyMeasurementTotal()\n",
    "monthlyMeasurementFragmentSeries()\n",
    "monthlyMeasurementTypeFragmentSeries()"
   ],
   "metadata": {
    "collapsed": false,
    "ExecuteTime": {
     "end_time": "2024-05-25T09:59:11.620289100Z",
     "start_time": "2024-05-25T09:59:10.941254Z"
    }
   },
   "id": "a2891750cfeeb56a",
   "execution_count": 7
  },
  {
   "cell_type": "code",
   "outputs": [
    {
     "name": "stdout",
     "output_type": "stream",
     "text": [
      "Device count: 4361\n",
      "Total measurements: 462,500,574\n",
      "Devices that send measurements: 99.15%\n",
      "Oldest measurement: 2014-07-31\n",
      "Latest measurement: 2024-04-01\n"
     ]
    }
   ],
   "source": [
    "measurementStatistics()"
   ],
   "metadata": {
    "collapsed": false,
    "ExecuteTime": {
     "end_time": "2024-05-25T09:59:12.045791600Z",
     "start_time": "2024-05-25T09:59:11.617284200Z"
    }
   },
   "id": "44d2028f03c33bb6",
   "execution_count": 8
  },
  {
   "cell_type": "code",
   "outputs": [
    {
     "data": {
      "text/plain": "                     deviceType        measurementType  \\\n0    ee_telia_iot_meazon_device             c4t_metric   \n1    ee_telia_iot_meazon_device             c4t_metric   \n2    ee_telia_iot_meazon_device             c4t_metric   \n3    ee_telia_iot_meazon_device             c4t_metric   \n4    ee_telia_iot_meazon_device             c4t_metric   \n..                          ...                    ...   \n659      DAL_series_aggregation  dal_series_target_agg   \n660      DAL_series_aggregation  dal_series_target_agg   \n661      DAL_series_aggregation  dal_series_target_agg   \n662      DAL_series_aggregation  dal_series_target_agg   \n663      DAL_series_aggregation  dal_series_target_agg   \n\n                         fragment        series  count           units  \\\n0                    power_factor            L1  10196            None   \n1                    active_power            L1  10196               W   \n2                     energy_cons            L3  10196              Wh   \n3                         current            L1  10196               A   \n4                    power_factor            L2  10196            None   \n..                            ...           ...    ...             ...   \n659  ValidationsLast4Weeks_hourly    series_min     15  noOfPassengers   \n660  ValidationsLast4Weeks_hourly    series_max     15  noOfPassengers   \n661   ValidationsLast4Weeks_daily    series_max     15  noOfPassengers   \n662  ValidationsLast4Weeks_hourly  series_count     15                   \n663   ValidationsLast4Weeks_daily  series_count     15                   \n\n                         example values  \\\n0            [0.802, -0.946, -0.886, 0]   \n1    [0, -2822.68, -2338.623, 1335.286]   \n2              [0, 2151681024, 4213780]   \n3        [0.008, 10.252, 12.344, 7.061]   \n4               [0.827, 0, -0.279, 1.0]   \n..                                  ...   \n659                          [977302.0]   \n660                          [977302.0]   \n661                          [977302.0]   \n662                                 [6]   \n663                                 [6]   \n\n                                   example measurement  \n0    {'id': '1531000487', 'type': 'c4t_metric', 'so...  \n1    {'id': '1531000487', 'type': 'c4t_metric', 'so...  \n2    {'id': '1531000487', 'type': 'c4t_metric', 'so...  \n3    {'id': '1531000487', 'type': 'c4t_metric', 'so...  \n4    {'id': '1531000487', 'type': 'c4t_metric', 'so...  \n..                                                 ...  \n659  {'id': '1545206232', 'type': 'dal_series_targe...  \n660  {'id': '1545206232', 'type': 'dal_series_targe...  \n661  {'id': '1545311823', 'type': 'dal_series_targe...  \n662  {'id': '1545206232', 'type': 'dal_series_targe...  \n663  {'id': '1545311823', 'type': 'dal_series_targe...  \n\n[664 rows x 8 columns]",
      "text/html": "<div>\n<style scoped>\n    .dataframe tbody tr th:only-of-type {\n        vertical-align: middle;\n    }\n\n    .dataframe tbody tr th {\n        vertical-align: top;\n    }\n\n    .dataframe thead th {\n        text-align: right;\n    }\n</style>\n<table border=\"1\" class=\"dataframe\">\n  <thead>\n    <tr style=\"text-align: right;\">\n      <th></th>\n      <th>deviceType</th>\n      <th>measurementType</th>\n      <th>fragment</th>\n      <th>series</th>\n      <th>count</th>\n      <th>units</th>\n      <th>example values</th>\n      <th>example measurement</th>\n    </tr>\n  </thead>\n  <tbody>\n    <tr>\n      <th>0</th>\n      <td>ee_telia_iot_meazon_device</td>\n      <td>c4t_metric</td>\n      <td>power_factor</td>\n      <td>L1</td>\n      <td>10196</td>\n      <td>None</td>\n      <td>[0.802, -0.946, -0.886, 0]</td>\n      <td>{'id': '1531000487', 'type': 'c4t_metric', 'so...</td>\n    </tr>\n    <tr>\n      <th>1</th>\n      <td>ee_telia_iot_meazon_device</td>\n      <td>c4t_metric</td>\n      <td>active_power</td>\n      <td>L1</td>\n      <td>10196</td>\n      <td>W</td>\n      <td>[0, -2822.68, -2338.623, 1335.286]</td>\n      <td>{'id': '1531000487', 'type': 'c4t_metric', 'so...</td>\n    </tr>\n    <tr>\n      <th>2</th>\n      <td>ee_telia_iot_meazon_device</td>\n      <td>c4t_metric</td>\n      <td>energy_cons</td>\n      <td>L3</td>\n      <td>10196</td>\n      <td>Wh</td>\n      <td>[0, 2151681024, 4213780]</td>\n      <td>{'id': '1531000487', 'type': 'c4t_metric', 'so...</td>\n    </tr>\n    <tr>\n      <th>3</th>\n      <td>ee_telia_iot_meazon_device</td>\n      <td>c4t_metric</td>\n      <td>current</td>\n      <td>L1</td>\n      <td>10196</td>\n      <td>A</td>\n      <td>[0.008, 10.252, 12.344, 7.061]</td>\n      <td>{'id': '1531000487', 'type': 'c4t_metric', 'so...</td>\n    </tr>\n    <tr>\n      <th>4</th>\n      <td>ee_telia_iot_meazon_device</td>\n      <td>c4t_metric</td>\n      <td>power_factor</td>\n      <td>L2</td>\n      <td>10196</td>\n      <td>None</td>\n      <td>[0.827, 0, -0.279, 1.0]</td>\n      <td>{'id': '1531000487', 'type': 'c4t_metric', 'so...</td>\n    </tr>\n    <tr>\n      <th>...</th>\n      <td>...</td>\n      <td>...</td>\n      <td>...</td>\n      <td>...</td>\n      <td>...</td>\n      <td>...</td>\n      <td>...</td>\n      <td>...</td>\n    </tr>\n    <tr>\n      <th>659</th>\n      <td>DAL_series_aggregation</td>\n      <td>dal_series_target_agg</td>\n      <td>ValidationsLast4Weeks_hourly</td>\n      <td>series_min</td>\n      <td>15</td>\n      <td>noOfPassengers</td>\n      <td>[977302.0]</td>\n      <td>{'id': '1545206232', 'type': 'dal_series_targe...</td>\n    </tr>\n    <tr>\n      <th>660</th>\n      <td>DAL_series_aggregation</td>\n      <td>dal_series_target_agg</td>\n      <td>ValidationsLast4Weeks_hourly</td>\n      <td>series_max</td>\n      <td>15</td>\n      <td>noOfPassengers</td>\n      <td>[977302.0]</td>\n      <td>{'id': '1545206232', 'type': 'dal_series_targe...</td>\n    </tr>\n    <tr>\n      <th>661</th>\n      <td>DAL_series_aggregation</td>\n      <td>dal_series_target_agg</td>\n      <td>ValidationsLast4Weeks_daily</td>\n      <td>series_max</td>\n      <td>15</td>\n      <td>noOfPassengers</td>\n      <td>[977302.0]</td>\n      <td>{'id': '1545311823', 'type': 'dal_series_targe...</td>\n    </tr>\n    <tr>\n      <th>662</th>\n      <td>DAL_series_aggregation</td>\n      <td>dal_series_target_agg</td>\n      <td>ValidationsLast4Weeks_hourly</td>\n      <td>series_count</td>\n      <td>15</td>\n      <td></td>\n      <td>[6]</td>\n      <td>{'id': '1545206232', 'type': 'dal_series_targe...</td>\n    </tr>\n    <tr>\n      <th>663</th>\n      <td>DAL_series_aggregation</td>\n      <td>dal_series_target_agg</td>\n      <td>ValidationsLast4Weeks_daily</td>\n      <td>series_count</td>\n      <td>15</td>\n      <td></td>\n      <td>[6]</td>\n      <td>{'id': '1545311823', 'type': 'dal_series_targe...</td>\n    </tr>\n  </tbody>\n</table>\n<p>664 rows × 8 columns</p>\n</div>"
     },
     "execution_count": 9,
     "metadata": {},
     "output_type": "execute_result"
    }
   ],
   "source": [
    "createMeasurementFragmentSeriesSchema()\n",
    "createMeasurementTypeFragmentSeriesSchema()"
   ],
   "metadata": {
    "collapsed": false,
    "ExecuteTime": {
     "end_time": "2024-05-25T12:37:02.887601600Z",
     "start_time": "2024-05-25T12:37:01.937594Z"
    }
   },
   "id": "34f8a0a36b9683f4",
   "execution_count": 9
  }
 ],
 "metadata": {
  "kernelspec": {
   "display_name": "Python 3",
   "language": "python",
   "name": "python3"
  },
  "language_info": {
   "codemirror_mode": {
    "name": "ipython",
    "version": 2
   },
   "file_extension": ".py",
   "mimetype": "text/x-python",
   "name": "python",
   "nbconvert_exporter": "python",
   "pygments_lexer": "ipython2",
   "version": "2.7.6"
  }
 },
 "nbformat": 4,
 "nbformat_minor": 5
}
