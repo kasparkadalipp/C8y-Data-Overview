{
 "cells": [
  {
   "cell_type": "code",
   "outputs": [],
   "source": [
    "%load_ext autoreload\n",
    "%autoreload 2\n",
    "import calendar\n",
    "from datetime import date\n",
    "from src.cumulocity import measurementsTotal, measurementsFragmentSeries, measurementTypeFragmentSeries, Devices\n",
    "from src.data_overview.statistics import monthlyMeasurementTotal, monthlyMeasurementFragmentSeries, monthlyMeasurementTypeFragmentSeries, measurementStatistics\n",
    "from src.utils import pathExists, saveToFile"
   ],
   "metadata": {
    "collapsed": false,
    "ExecuteTime": {
     "end_time": "2024-05-24T22:42:29.341446200Z",
     "start_time": "2024-05-24T22:42:28.724989300Z"
    }
   },
   "id": "fc71538a04b79f3d",
   "execution_count": 1
  },
  {
   "cell_type": "markdown",
   "source": [
    "# Cumulocity Measurements"
   ],
   "metadata": {
    "collapsed": false
   },
   "id": "4731a9bb9e99a8d6"
  },
  {
   "cell_type": "code",
   "outputs": [],
   "source": [
    "dateFrom = date(2024, calendar.MARCH, 1)\n",
    "dateTo = date(2024,  calendar.FEBRUARY, 1)"
   ],
   "metadata": {
    "collapsed": false,
    "ExecuteTime": {
     "end_time": "2024-05-24T22:42:29.387180Z",
     "start_time": "2024-05-24T22:42:29.341446200Z"
    }
   },
   "id": "d2907f7663ced33f",
   "execution_count": 2
  },
  {
   "cell_type": "code",
   "outputs": [],
   "source": [
    "if not pathExists('c8y_data.json'):\n",
    "    saveToFile(Devices.requestTotalMeasurements(dateTo).c8y_data, 'c8y_data.json')"
   ],
   "metadata": {
    "collapsed": false,
    "ExecuteTime": {
     "end_time": "2024-05-24T22:42:29.423857900Z",
     "start_time": "2024-05-24T22:42:29.383173600Z"
    }
   },
   "id": "f1a6d30168dc88dc",
   "execution_count": 3
  },
  {
   "cell_type": "code",
   "outputs": [
    {
     "name": "stderr",
     "output_type": "stream",
     "text": [
      "Mar 2024: 100%|██████████| 4361/4361 [time elapsed: 22:12]\n",
      "Feb 2024: 100%|██████████| 4361/4361 [time elapsed: 21:57]\n"
     ]
    }
   ],
   "source": [
    "measurementsTotal(dateFrom, dateTo)"
   ],
   "metadata": {
    "collapsed": false,
    "ExecuteTime": {
     "end_time": "2024-05-24T23:26:40.059743900Z",
     "start_time": "2024-05-24T22:42:29.425857500Z"
    }
   },
   "id": "13276de379a99859",
   "execution_count": 4
  },
  {
   "cell_type": "code",
   "outputs": [
    {
     "name": "stderr",
     "output_type": "stream",
     "text": [
      "Mar 2024: 100%|██████████| 4361/4361 [time elapsed: 3:17:22]\n",
      "Feb 2024: 100%|██████████| 4361/4361 [time elapsed: 3:15:10]\n"
     ]
    }
   ],
   "source": [
    "measurementsFragmentSeries(dateFrom, dateTo)"
   ],
   "metadata": {
    "collapsed": false,
    "ExecuteTime": {
     "end_time": "2024-05-25T05:59:16.442269600Z",
     "start_time": "2024-05-24T23:26:40.059743900Z"
    }
   },
   "id": "db1168ce9cb90fad",
   "execution_count": 5
  },
  {
   "cell_type": "code",
   "outputs": [
    {
     "name": "stderr",
     "output_type": "stream",
     "text": [
      "Mar 2024: 100%|██████████| 4361/4361 [time elapsed: 2:26:05]\n",
      "Feb 2024: 100%|██████████| 4361/4361 [time elapsed: 1:33:43]\n"
     ]
    }
   ],
   "source": [
    "measurementTypeFragmentSeries(dateFrom, dateTo)"
   ],
   "metadata": {
    "collapsed": false,
    "ExecuteTime": {
     "end_time": "2024-05-25T09:59:10.941254Z",
     "start_time": "2024-05-25T05:59:16.446773100Z"
    }
   },
   "id": "e40a005e88a0f311",
   "execution_count": 6
  },
  {
   "cell_type": "code",
   "outputs": [
    {
     "name": "stdout",
     "output_type": "stream",
     "text": [
      "Total measurements from monthly measurement: 27,954,186\n",
      "Total measurements from monthly fragment + series: 32,714,081\n",
      "Total measurements from monthly fragment + series + type: 32,714,081\n"
     ]
    }
   ],
   "source": [
    "monthlyMeasurementTotal()\n",
    "monthlyMeasurementFragmentSeries()\n",
    "monthlyMeasurementTypeFragmentSeries()"
   ],
   "metadata": {
    "collapsed": false,
    "ExecuteTime": {
     "end_time": "2024-05-25T09:59:11.620289100Z",
     "start_time": "2024-05-25T09:59:10.941254Z"
    }
   },
   "id": "a2891750cfeeb56a",
   "execution_count": 7
  },
  {
   "cell_type": "code",
   "outputs": [
    {
     "name": "stdout",
     "output_type": "stream",
     "text": [
      "Device count: 4361\n",
      "Total measurements: 462,500,574\n",
      "Devices that send measurements: 99.15%\n",
      "Oldest measurement: 2014-07-31\n",
      "Latest measurement: 2024-04-01\n"
     ]
    }
   ],
   "source": [
    "measurementStatistics()"
   ],
   "metadata": {
    "collapsed": false,
    "ExecuteTime": {
     "end_time": "2024-05-25T09:59:12.045791600Z",
     "start_time": "2024-05-25T09:59:11.617284200Z"
    }
   },
   "id": "44d2028f03c33bb6",
   "execution_count": 8
  }
 ],
 "metadata": {
  "kernelspec": {
   "display_name": "Python 3",
   "language": "python",
   "name": "python3"
  },
  "language_info": {
   "codemirror_mode": {
    "name": "ipython",
    "version": 2
   },
   "file_extension": ".py",
   "mimetype": "text/x-python",
   "name": "python",
   "nbconvert_exporter": "python",
   "pygments_lexer": "ipython2",
   "version": "2.7.6"
  }
 },
 "nbformat": 4,
 "nbformat_minor": 5
}
