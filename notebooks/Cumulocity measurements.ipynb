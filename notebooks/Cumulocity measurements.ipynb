{
 "cells": [
  {
   "cell_type": "code",
   "outputs": [],
   "source": [
    "%load_ext autoreload\n",
    "%autoreload 2\n",
    "import calendar\n",
    "from datetime import date\n",
    "from src.cumulocity import measurementsTotal, measurementsFragmentSeries, measurementTypeFragmentSeries, Devices\n",
    "from src.data_overview.statistics import monthlyMeasurementTotal, monthlyMeasurementFragmentSeries, monthlyMeasurementTypeFragmentSeries, measurementStatistics\n",
    "from src.utils import pathExists, saveToFile"
   ],
   "metadata": {
    "collapsed": false,
    "ExecuteTime": {
     "end_time": "2024-05-23T13:06:35.279258300Z",
     "start_time": "2024-05-23T13:06:33.831321300Z"
    }
   },
   "id": "fc71538a04b79f3d",
   "execution_count": 1
  },
  {
   "cell_type": "markdown",
   "source": [
    "# Cumulocity Measurements"
   ],
   "metadata": {
    "collapsed": false
   },
   "id": "4731a9bb9e99a8d6"
  },
  {
   "cell_type": "code",
   "outputs": [],
   "source": [
    "dateFrom = date(2024, calendar.MARCH, 1)\n",
    "dateTo = date(2024,  calendar.FEBRUARY, 1)"
   ],
   "metadata": {
    "collapsed": false,
    "ExecuteTime": {
     "end_time": "2024-05-23T00:41:39.307699200Z",
     "start_time": "2024-05-23T00:41:39.275667Z"
    }
   },
   "id": "d2907f7663ced33f",
   "execution_count": 2
  },
  {
   "cell_type": "code",
   "outputs": [],
   "source": [
    "if not pathExists('c8y_data.json'):\n",
    "    saveToFile(Devices.requestTotalMeasurements(dateTo).c8y_data, 'c8y_data.json')"
   ],
   "metadata": {
    "collapsed": false,
    "ExecuteTime": {
     "end_time": "2024-05-23T00:41:39.339489900Z",
     "start_time": "2024-05-23T00:41:39.308699600Z"
    }
   },
   "id": "f1a6d30168dc88dc",
   "execution_count": 3
  },
  {
   "cell_type": "code",
   "outputs": [
    {
     "name": "stderr",
     "output_type": "stream",
     "text": [
      "Mar 2024: 100%|██████████| 4361/4361 [time elapsed: 17:20]\n",
      "Feb 2024: 100%|██████████| 4361/4361 [time elapsed: 16:36]\n"
     ]
    }
   ],
   "source": [
    "measurementsTotal(dateFrom, dateTo)"
   ],
   "metadata": {
    "collapsed": false,
    "ExecuteTime": {
     "end_time": "2024-05-23T01:15:36.980182500Z",
     "start_time": "2024-05-23T00:41:39.339489900Z"
    }
   },
   "id": "13276de379a99859",
   "execution_count": 4
  },
  {
   "cell_type": "code",
   "outputs": [
    {
     "name": "stderr",
     "output_type": "stream",
     "text": [
      "Mar 2024: 100%|██████████| 4361/4361 [time elapsed: 2:30:10]\n",
      "Feb 2024: 100%|██████████| 4361/4361 [time elapsed: 2:21:34]\n"
     ]
    }
   ],
   "source": [
    "measurementsFragmentSeries(dateFrom, dateTo)"
   ],
   "metadata": {
    "collapsed": false,
    "ExecuteTime": {
     "end_time": "2024-05-23T06:07:24.188934Z",
     "start_time": "2024-05-23T01:15:36.981182Z"
    }
   },
   "id": "db1168ce9cb90fad",
   "execution_count": 5
  },
  {
   "cell_type": "code",
   "outputs": [
    {
     "name": "stderr",
     "output_type": "stream",
     "text": [
      "Mar 2024: 100%|██████████| 4361/4361 [time elapsed: 1:51:18]\n",
      "Feb 2024: 100%|██████████| 4361/4361 [time elapsed: 2:42:53]\n"
     ]
    }
   ],
   "source": [
    "measurementTypeFragmentSeries(dateFrom, dateTo)"
   ],
   "metadata": {
    "collapsed": false,
    "ExecuteTime": {
     "end_time": "2024-05-23T10:41:39.109084100Z",
     "start_time": "2024-05-23T06:07:24.189934300Z"
    }
   },
   "id": "e40a005e88a0f311",
   "execution_count": 6
  },
  {
   "cell_type": "code",
   "outputs": [
    {
     "name": "stdout",
     "output_type": "stream",
     "text": [
      "Total measurements from monthly measurement: 27,954,186\n",
      "Total measurements from monthly fragment + series: 32,714,081\n",
      "Total measurements from monthly fragment + series + type: 32,159,627\n"
     ]
    }
   ],
   "source": [
    "monthlyMeasurementTotal()\n",
    "monthlyMeasurementFragmentSeries()\n",
    "monthlyMeasurementTypeFragmentSeries()"
   ],
   "metadata": {
    "collapsed": false,
    "ExecuteTime": {
     "end_time": "2024-05-23T10:41:39.892137500Z",
     "start_time": "2024-05-23T10:41:39.109084100Z"
    }
   },
   "id": "a2891750cfeeb56a",
   "execution_count": 7
  },
  {
   "cell_type": "code",
   "outputs": [
    {
     "name": "stdout",
     "output_type": "stream",
     "text": [
      "Device count: 4361\n",
      "Total measurements : 462,500,574\n",
      "Devices that send measurements 99.15%\n",
      "Oldest measurement 2014-07-31\n",
      "Latest measurement 2024-04-01\n"
     ]
    }
   ],
   "source": [
    "measurementStatistics()"
   ],
   "metadata": {
    "collapsed": false,
    "ExecuteTime": {
     "end_time": "2024-05-23T13:06:43.600438200Z",
     "start_time": "2024-05-23T13:06:43.133108400Z"
    }
   },
   "id": "44d2028f03c33bb6",
   "execution_count": 8
  }
 ],
 "metadata": {
  "kernelspec": {
   "display_name": "Python 3",
   "language": "python",
   "name": "python3"
  },
  "language_info": {
   "codemirror_mode": {
    "name": "ipython",
    "version": 2
   },
   "file_extension": ".py",
   "mimetype": "text/x-python",
   "name": "python",
   "nbconvert_exporter": "python",
   "pygments_lexer": "ipython2",
   "version": "2.7.6"
  }
 },
 "nbformat": 4,
 "nbformat_minor": 5
}
