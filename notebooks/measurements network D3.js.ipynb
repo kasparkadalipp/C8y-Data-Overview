{
 "cells": [
  {
   "cell_type": "code",
   "outputs": [
    {
     "name": "stdout",
     "output_type": "stream",
     "text": [
      "The autoreload extension is already loaded. To reload it, use:\n",
      "  %reload_ext autoreload\n"
     ]
    }
   ],
   "source": [
    "\n",
    "%load_ext autoreload\n",
    "from dotenv import load_dotenv\n",
    "\n",
    "load_dotenv('.env.telia')\n",
    "%autoreload 2"
   ],
   "metadata": {
    "collapsed": false,
    "ExecuteTime": {
     "end_time": "2024-04-30T17:19:43.658279100Z",
     "start_time": "2024-04-30T17:19:43.630140900Z"
    }
   },
   "id": "e5a2c6f3b4ee37f3",
   "execution_count": 31
  },
  {
   "cell_type": "code",
   "outputs": [],
   "source": [
    "from src.utils import saveToFile, fileContentsFromFolder, readFileContents\n",
    "import json\n",
    "import re"
   ],
   "metadata": {
    "collapsed": false,
    "ExecuteTime": {
     "end_time": "2024-04-30T17:19:43.680270200Z",
     "start_time": "2024-04-30T17:19:43.650936500Z"
    }
   },
   "id": "e07e58828ab4972f",
   "execution_count": 32
  },
  {
   "cell_type": "code",
   "outputs": [],
   "source": [
    "basePath = '../data/telia/measurements/typeFragmentSeries/'"
   ],
   "metadata": {
    "collapsed": false,
    "ExecuteTime": {
     "end_time": "2024-04-30T17:19:43.701176700Z",
     "start_time": "2024-04-30T17:19:43.670659400Z"
    }
   },
   "id": "ce196343bc3e6122",
   "execution_count": 33
  },
  {
   "cell_type": "code",
   "outputs": [],
   "source": [
    "with open('../data/telia/c8y_data.json', 'r', encoding='utf8') as json_file:\n",
    "    c8y_data = json.load(json_file)"
   ],
   "metadata": {
    "collapsed": true,
    "ExecuteTime": {
     "end_time": "2024-04-30T17:19:44.596202600Z",
     "start_time": "2024-04-30T17:19:43.693728900Z"
    }
   },
   "id": "initial_id",
   "execution_count": 34
  },
  {
   "cell_type": "code",
   "outputs": [],
   "source": [
    "def getUniqueFields(files):\n",
    "    result = set()\n",
    "\n",
    "    for jsonFile in files:\n",
    "        for device in jsonFile:\n",
    "            deviceId = device['deviceId']\n",
    "            deviceType = device['deviceType']\n",
    "    \n",
    "            for fragmentSeries in device['typeFragmentSeries']:\n",
    "                measurementType = fragmentSeries['type']\n",
    "                fragment = fragmentSeries['fragment']\n",
    "                series = fragmentSeries['series']\n",
    "                \n",
    "                measurement = fragmentSeries['measurement']\n",
    "                if measurement:\n",
    "                    measurementValue = measurement[fragment][series]\n",
    "                    unit = measurementValue['unit'] if 'unit' in measurementValue else ''\n",
    "                    value = str(measurementValue['value']) if 'value' in measurementValue else ''\n",
    "                    \n",
    "                    result.add((deviceType, measurementType, fragment, series, unit))\n",
    "    return result"
   ],
   "metadata": {
    "collapsed": false,
    "ExecuteTime": {
     "end_time": "2024-04-30T17:19:44.599315700Z",
     "start_time": "2024-04-30T17:19:44.571450100Z"
    }
   },
   "id": "3e96c76a5863a265",
   "execution_count": 35
  },
  {
   "cell_type": "code",
   "outputs": [],
   "source": [
    "def formatName(item, group):\n",
    "    if group == 0:\n",
    "        return \"Measurements\"\n",
    "    value = str(item)\n",
    "    if \".\" in value:\n",
    "        value = value.rsplit(\".\")[1]  # splits series\n",
    "    return value[2:]"
   ],
   "metadata": {
    "collapsed": false,
    "ExecuteTime": {
     "end_time": "2024-04-30T17:19:44.617140600Z",
     "start_time": "2024-04-30T17:19:44.594047300Z"
    }
   },
   "id": "539d15e9b30e317d",
   "execution_count": 36
  },
  {
   "cell_type": "code",
   "outputs": [],
   "source": [
    "def fixSensorFragment(name):\n",
    "    match = re.match(\"^(sensor)_\\\\d{1,4}(.*)\", name)  # sensor_1235_daily -> sensor_daily\n",
    "    if match:\n",
    "        return match.group(1) + match.group(2)\n",
    "    return name"
   ],
   "metadata": {
    "collapsed": false,
    "ExecuteTime": {
     "end_time": "2024-04-30T17:19:44.640589400Z",
     "start_time": "2024-04-30T17:19:44.616093900Z"
    }
   },
   "id": "2355d90dac15f804",
   "execution_count": 37
  },
  {
   "cell_type": "code",
   "outputs": [],
   "source": [
    "def createNetworkData(inputData, fileName, filtered=False):\n",
    "    links = set()\n",
    "    nodes = set()\n",
    "    \n",
    "    for deviceType, measurementType, fragment, series, unit in inputData:\n",
    "        level1 = deviceType\n",
    "        level2 = measurementType\n",
    "        level3 = fixSensorFragment(fragment) if filtered else fragment\n",
    "        level4 = series\n",
    "        level5 = unit\n",
    "        \n",
    "        if level1 is None or level1 == \"\": level1 = \"<missing deviceType>\"\n",
    "        if level2 is None or level2 == \"\": level2 = \"<missing measurementType>\"\n",
    "        if level3 is None or level3 == \"\": level3 = \"<missing fragment>\"\n",
    "        if level4 is None or level4 == \"\": level4 = \"<missing series>\"\n",
    "        if level5 is None or level5 == \"\": level5 = \"<missing unit>\"\n",
    "    \n",
    "        root = \"0_Measurements\"\n",
    "        source1 = f\"1_{level1}\"\n",
    "        source2 = f\"2_{level2}\"\n",
    "        source3 = f\"3_{level3}\"\n",
    "        source4 = f\"4_{level4}\"\n",
    "        source5 = f\"5_{level5}\"\n",
    "    \n",
    "        nodes.add((root, 0))\n",
    "        nodes.add((f\"1_{level1}\", 1))\n",
    "        nodes.add((f\"2_{level2}\", 2))\n",
    "        nodes.add((f\"3_{level3}\", 3))\n",
    "        nodes.add((f\"4_{level4}\", 4))\n",
    "        nodes.add((f\"5_{level5}\", 5))\n",
    "    \n",
    "        links.add((root, source1))\n",
    "        links.add((source1, source2))\n",
    "        links.add((source2, source3))\n",
    "        links.add((source3, source4))\n",
    "        links.add((source4, source5))\n",
    "        \n",
    "    data = {\n",
    "        \"nodes\": [{\"id\": id,\"group\": group,\"name\": formatName(id, group)} for id, group in nodes],\n",
    "        \"links\": [{\"source\": source, \"target\": target} for source, target in links]\n",
    "    }\n",
    "\n",
    "    saveToFile(data, \"../data/telia/visualisations/measurements/\" + fileName, overwrite=True)"
   ],
   "metadata": {
    "collapsed": false,
    "ExecuteTime": {
     "end_time": "2024-04-30T17:19:44.666998400Z",
     "start_time": "2024-04-30T17:19:44.641748Z"
    }
   },
   "id": "5b445e13db50f6e0",
   "execution_count": 38
  },
  {
   "cell_type": "code",
   "outputs": [],
   "source": [
    "def visualizeWholeDataset(filtered = False):\n",
    "    inputData =  getUniqueFields(fileContentsFromFolder(basePath))\n",
    "    fileName = f'network (total){\"[filtered]\" if filtered else ''}.json'\n",
    "    createNetworkData(inputData, fileName, filtered)\n",
    "\n",
    "def visualiseMonth(filtered = False):\n",
    "    inputData =  getUniqueFields([readFileContents(basePath + 'c8y_measurements 2024-03-01 - 2024-04-01.json')])\n",
    "    fileName = f'network (month){\"[filtered]\" if filtered else ''}.json'\n",
    "    createNetworkData(inputData, fileName, filtered)"
   ],
   "metadata": {
    "collapsed": false,
    "ExecuteTime": {
     "end_time": "2024-04-30T17:19:44.688711600Z",
     "start_time": "2024-04-30T17:19:44.665200600Z"
    }
   },
   "id": "7c5caf97b7f657d",
   "execution_count": 39
  },
  {
   "cell_type": "code",
   "outputs": [],
   "source": [
    "visualiseMonth()"
   ],
   "metadata": {
    "collapsed": false,
    "ExecuteTime": {
     "end_time": "2024-04-30T17:19:45.119541300Z",
     "start_time": "2024-04-30T17:19:44.687664300Z"
    }
   },
   "id": "215a62e983aee19",
   "execution_count": 40
  },
  {
   "cell_type": "code",
   "outputs": [],
   "source": [
    "visualizeWholeDataset()"
   ],
   "metadata": {
    "collapsed": false,
    "ExecuteTime": {
     "end_time": "2024-04-30T17:19:45.137215600Z",
     "start_time": "2024-04-30T17:19:45.110967500Z"
    }
   },
   "id": "8b20a070f0c75df3",
   "execution_count": 41
  },
  {
   "cell_type": "code",
   "outputs": [
    {
     "ename": "KeyboardInterrupt",
     "evalue": "",
     "output_type": "error",
     "traceback": [
      "\u001B[1;31m---------------------------------------------------------------------------\u001B[0m",
      "\u001B[1;31mKeyboardInterrupt\u001B[0m                         Traceback (most recent call last)",
      "    \u001B[1;31m[... skipping hidden 1 frame]\u001B[0m\n",
      "Cell \u001B[1;32mIn[42], line 1\u001B[0m\n\u001B[1;32m----> 1\u001B[0m \u001B[43mvisualizeWholeDataset\u001B[49m\u001B[43m(\u001B[49m\u001B[43mfiltered\u001B[49m\u001B[38;5;241;43m=\u001B[39;49m\u001B[38;5;28;43;01mTrue\u001B[39;49;00m\u001B[43m)\u001B[49m\n",
      "Cell \u001B[1;32mIn[39], line 2\u001B[0m, in \u001B[0;36mvisualizeWholeDataset\u001B[1;34m(filtered)\u001B[0m\n\u001B[0;32m      1\u001B[0m \u001B[38;5;28;01mdef\u001B[39;00m \u001B[38;5;21mvisualizeWholeDataset\u001B[39m(filtered \u001B[38;5;241m=\u001B[39m \u001B[38;5;28;01mFalse\u001B[39;00m):\n\u001B[1;32m----> 2\u001B[0m     inputData \u001B[38;5;241m=\u001B[39m  getUniqueFields(\u001B[43mfileContentsFromFolder\u001B[49m\u001B[43m(\u001B[49m\u001B[43mbasePath\u001B[49m\u001B[43m)\u001B[49m)\n\u001B[0;32m      3\u001B[0m     fileName \u001B[38;5;241m=\u001B[39m \u001B[38;5;124mf\u001B[39m\u001B[38;5;124m'\u001B[39m\u001B[38;5;124mnetwork (total)\u001B[39m\u001B[38;5;132;01m{\u001B[39;00m\u001B[38;5;124m\"\u001B[39m\u001B[38;5;124m[filtered]\u001B[39m\u001B[38;5;124m\"\u001B[39m\u001B[38;5;250m \u001B[39m\u001B[38;5;28;01mif\u001B[39;00m\u001B[38;5;250m \u001B[39mfiltered\u001B[38;5;250m \u001B[39m\u001B[38;5;28;01melse\u001B[39;00m\u001B[38;5;250m \u001B[39m\u001B[38;5;124m'\u001B[39m\u001B[38;5;124m'\u001B[39m\u001B[38;5;132;01m}\u001B[39;00m\u001B[38;5;124m.json\u001B[39m\u001B[38;5;124m'\u001B[39m\n",
      "File \u001B[1;32m~\\Desktop\\Cumulocity\\src\\utils.py:59\u001B[0m, in \u001B[0;36mfileContentsFromFolder\u001B[1;34m(folderPath)\u001B[0m\n\u001B[0;32m     58\u001B[0m \u001B[38;5;28;01mdef\u001B[39;00m \u001B[38;5;21mfileContentsFromFolder\u001B[39m(folderPath):\n\u001B[1;32m---> 59\u001B[0m     \u001B[38;5;28;01mreturn\u001B[39;00m [\u001B[43mreadFileContents\u001B[49m\u001B[43m(\u001B[49m\u001B[43mfilePath\u001B[49m\u001B[43m)\u001B[49m \u001B[38;5;28;01mfor\u001B[39;00m filePath \u001B[38;5;129;01min\u001B[39;00m filePathsInFolder(folderPath)]\n",
      "File \u001B[1;32m~\\Desktop\\Cumulocity\\src\\utils.py:55\u001B[0m, in \u001B[0;36mreadFileContents\u001B[1;34m(filePath)\u001B[0m\n\u001B[0;32m     54\u001B[0m \u001B[38;5;28;01mwith\u001B[39;00m \u001B[38;5;28mopen\u001B[39m(filePath, \u001B[38;5;124m'\u001B[39m\u001B[38;5;124mr\u001B[39m\u001B[38;5;124m'\u001B[39m, encoding\u001B[38;5;241m=\u001B[39m\u001B[38;5;124m'\u001B[39m\u001B[38;5;124mutf8\u001B[39m\u001B[38;5;124m'\u001B[39m) \u001B[38;5;28;01mas\u001B[39;00m json_file:\n\u001B[1;32m---> 55\u001B[0m     \u001B[38;5;28;01mreturn\u001B[39;00m \u001B[43mjson\u001B[49m\u001B[38;5;241;43m.\u001B[39;49m\u001B[43mload\u001B[49m\u001B[43m(\u001B[49m\u001B[43mjson_file\u001B[49m\u001B[43m)\u001B[49m\n",
      "File \u001B[1;32mC:\\Program Files\\Python312\\Lib\\json\\__init__.py:293\u001B[0m, in \u001B[0;36mload\u001B[1;34m(fp, cls, object_hook, parse_float, parse_int, parse_constant, object_pairs_hook, **kw)\u001B[0m\n\u001B[0;32m    276\u001B[0m \u001B[38;5;250m\u001B[39m\u001B[38;5;124;03m\"\"\"Deserialize ``fp`` (a ``.read()``-supporting file-like object containing\u001B[39;00m\n\u001B[0;32m    277\u001B[0m \u001B[38;5;124;03ma JSON document) to a Python object.\u001B[39;00m\n\u001B[0;32m    278\u001B[0m \n\u001B[1;32m   (...)\u001B[0m\n\u001B[0;32m    291\u001B[0m \u001B[38;5;124;03mkwarg; otherwise ``JSONDecoder`` is used.\u001B[39;00m\n\u001B[0;32m    292\u001B[0m \u001B[38;5;124;03m\"\"\"\u001B[39;00m\n\u001B[1;32m--> 293\u001B[0m \u001B[38;5;28;01mreturn\u001B[39;00m \u001B[43mloads\u001B[49m\u001B[43m(\u001B[49m\u001B[43mfp\u001B[49m\u001B[38;5;241;43m.\u001B[39;49m\u001B[43mread\u001B[49m\u001B[43m(\u001B[49m\u001B[43m)\u001B[49m\u001B[43m,\u001B[49m\n\u001B[0;32m    294\u001B[0m \u001B[43m    \u001B[49m\u001B[38;5;28;43mcls\u001B[39;49m\u001B[38;5;241;43m=\u001B[39;49m\u001B[38;5;28;43mcls\u001B[39;49m\u001B[43m,\u001B[49m\u001B[43m \u001B[49m\u001B[43mobject_hook\u001B[49m\u001B[38;5;241;43m=\u001B[39;49m\u001B[43mobject_hook\u001B[49m\u001B[43m,\u001B[49m\n\u001B[0;32m    295\u001B[0m \u001B[43m    \u001B[49m\u001B[43mparse_float\u001B[49m\u001B[38;5;241;43m=\u001B[39;49m\u001B[43mparse_float\u001B[49m\u001B[43m,\u001B[49m\u001B[43m \u001B[49m\u001B[43mparse_int\u001B[49m\u001B[38;5;241;43m=\u001B[39;49m\u001B[43mparse_int\u001B[49m\u001B[43m,\u001B[49m\n\u001B[0;32m    296\u001B[0m \u001B[43m    \u001B[49m\u001B[43mparse_constant\u001B[49m\u001B[38;5;241;43m=\u001B[39;49m\u001B[43mparse_constant\u001B[49m\u001B[43m,\u001B[49m\u001B[43m \u001B[49m\u001B[43mobject_pairs_hook\u001B[49m\u001B[38;5;241;43m=\u001B[39;49m\u001B[43mobject_pairs_hook\u001B[49m\u001B[43m,\u001B[49m\u001B[43m \u001B[49m\u001B[38;5;241;43m*\u001B[39;49m\u001B[38;5;241;43m*\u001B[39;49m\u001B[43mkw\u001B[49m\u001B[43m)\u001B[49m\n",
      "File \u001B[1;32mC:\\Program Files\\Python312\\Lib\\json\\__init__.py:299\u001B[0m, in \u001B[0;36mloads\u001B[1;34m(s, cls, object_hook, parse_float, parse_int, parse_constant, object_pairs_hook, **kw)\u001B[0m\n\u001B[0;32m    293\u001B[0m     \u001B[38;5;28;01mreturn\u001B[39;00m loads(fp\u001B[38;5;241m.\u001B[39mread(),\n\u001B[0;32m    294\u001B[0m         \u001B[38;5;28mcls\u001B[39m\u001B[38;5;241m=\u001B[39m\u001B[38;5;28mcls\u001B[39m, object_hook\u001B[38;5;241m=\u001B[39mobject_hook,\n\u001B[0;32m    295\u001B[0m         parse_float\u001B[38;5;241m=\u001B[39mparse_float, parse_int\u001B[38;5;241m=\u001B[39mparse_int,\n\u001B[0;32m    296\u001B[0m         parse_constant\u001B[38;5;241m=\u001B[39mparse_constant, object_pairs_hook\u001B[38;5;241m=\u001B[39mobject_pairs_hook, \u001B[38;5;241m*\u001B[39m\u001B[38;5;241m*\u001B[39mkw)\n\u001B[1;32m--> 299\u001B[0m \u001B[38;5;28;01mdef\u001B[39;00m \u001B[38;5;21mloads\u001B[39m(s, \u001B[38;5;241m*\u001B[39m, \u001B[38;5;28mcls\u001B[39m\u001B[38;5;241m=\u001B[39m\u001B[38;5;28;01mNone\u001B[39;00m, object_hook\u001B[38;5;241m=\u001B[39m\u001B[38;5;28;01mNone\u001B[39;00m, parse_float\u001B[38;5;241m=\u001B[39m\u001B[38;5;28;01mNone\u001B[39;00m,\n\u001B[0;32m    300\u001B[0m         parse_int\u001B[38;5;241m=\u001B[39m\u001B[38;5;28;01mNone\u001B[39;00m, parse_constant\u001B[38;5;241m=\u001B[39m\u001B[38;5;28;01mNone\u001B[39;00m, object_pairs_hook\u001B[38;5;241m=\u001B[39m\u001B[38;5;28;01mNone\u001B[39;00m, \u001B[38;5;241m*\u001B[39m\u001B[38;5;241m*\u001B[39mkw):\n\u001B[0;32m    301\u001B[0m \u001B[38;5;250m    \u001B[39m\u001B[38;5;124;03m\"\"\"Deserialize ``s`` (a ``str``, ``bytes`` or ``bytearray`` instance\u001B[39;00m\n\u001B[0;32m    302\u001B[0m \u001B[38;5;124;03m    containing a JSON document) to a Python object.\u001B[39;00m\n\u001B[0;32m    303\u001B[0m \n\u001B[1;32m   (...)\u001B[0m\n\u001B[0;32m    331\u001B[0m \u001B[38;5;124;03m    kwarg; otherwise ``JSONDecoder`` is used.\u001B[39;00m\n\u001B[0;32m    332\u001B[0m \u001B[38;5;124;03m    \"\"\"\u001B[39;00m\n",
      "\u001B[1;31mKeyboardInterrupt\u001B[0m: ",
      "\nDuring handling of the above exception, another exception occurred:\n",
      "\u001B[1;31mKeyboardInterrupt\u001B[0m                         Traceback (most recent call last)",
      "    \u001B[1;31m[... skipping hidden 1 frame]\u001B[0m\n",
      "File \u001B[1;32mC:\\Program Files\\Python312\\Lib\\site-packages\\IPython\\core\\interactiveshell.py:2115\u001B[0m, in \u001B[0;36mInteractiveShell.showtraceback\u001B[1;34m(self, exc_tuple, filename, tb_offset, exception_only, running_compiled_code)\u001B[0m\n\u001B[0;32m   2112\u001B[0m     msg \u001B[38;5;241m=\u001B[39m traceback\u001B[38;5;241m.\u001B[39mformat_exception_only(etype, value)\n\u001B[0;32m   2113\u001B[0m     \u001B[38;5;28;01mreturn\u001B[39;00m \u001B[38;5;124m'\u001B[39m\u001B[38;5;124m'\u001B[39m\u001B[38;5;241m.\u001B[39mjoin(msg)\n\u001B[1;32m-> 2115\u001B[0m \u001B[38;5;28;01mdef\u001B[39;00m \u001B[38;5;21mshowtraceback\u001B[39m(\u001B[38;5;28mself\u001B[39m, exc_tuple\u001B[38;5;241m=\u001B[39m\u001B[38;5;28;01mNone\u001B[39;00m, filename\u001B[38;5;241m=\u001B[39m\u001B[38;5;28;01mNone\u001B[39;00m, tb_offset\u001B[38;5;241m=\u001B[39m\u001B[38;5;28;01mNone\u001B[39;00m,\n\u001B[0;32m   2116\u001B[0m                   exception_only\u001B[38;5;241m=\u001B[39m\u001B[38;5;28;01mFalse\u001B[39;00m, running_compiled_code\u001B[38;5;241m=\u001B[39m\u001B[38;5;28;01mFalse\u001B[39;00m):\n\u001B[0;32m   2117\u001B[0m \u001B[38;5;250m    \u001B[39m\u001B[38;5;124;03m\"\"\"Display the exception that just occurred.\u001B[39;00m\n\u001B[0;32m   2118\u001B[0m \n\u001B[0;32m   2119\u001B[0m \u001B[38;5;124;03m    If nothing is known about the exception, this is the method which\u001B[39;00m\n\u001B[1;32m   (...)\u001B[0m\n\u001B[0;32m   2125\u001B[0m \u001B[38;5;124;03m    SyntaxError exception, don't try to analyze the stack manually and\u001B[39;00m\n\u001B[0;32m   2126\u001B[0m \u001B[38;5;124;03m    simply call this method.\"\"\"\u001B[39;00m\n\u001B[0;32m   2128\u001B[0m     \u001B[38;5;28;01mtry\u001B[39;00m:\n",
      "\u001B[1;31mKeyboardInterrupt\u001B[0m: "
     ]
    }
   ],
   "source": [
    "visualizeWholeDataset(filtered=True)"
   ],
   "metadata": {
    "collapsed": false,
    "ExecuteTime": {
     "end_time": "2024-04-30T17:20:10.837648800Z",
     "start_time": "2024-04-30T17:19:45.135162700Z"
    }
   },
   "id": "9426cc006240bd75",
   "execution_count": 42
  }
 ],
 "metadata": {
  "kernelspec": {
   "display_name": "Python 3",
   "language": "python",
   "name": "python3"
  },
  "language_info": {
   "codemirror_mode": {
    "name": "ipython",
    "version": 2
   },
   "file_extension": ".py",
   "mimetype": "text/x-python",
   "name": "python",
   "nbconvert_exporter": "python",
   "pygments_lexer": "ipython2",
   "version": "2.7.6"
  }
 },
 "nbformat": 4,
 "nbformat_minor": 5
}
