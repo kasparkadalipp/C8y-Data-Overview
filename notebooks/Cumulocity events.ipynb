{
 "cells": [
  {
   "cell_type": "code",
   "outputs": [],
   "source": [
    "%load_ext autoreload\n",
    "%autoreload 2\n",
    "import calendar\n",
    "from src.cumulocity import eventsTotal, eventsType, eventsTypeFragment, Devices\n",
    "from src.data_overview.statistics import monthlyEventType, monthlyEventTotal, monthlyEventTypeFragment, eventStatistics\n",
    "from src.utils import pathExists, saveToFile\n",
    "from datetime import date"
   ],
   "metadata": {
    "collapsed": false,
    "ExecuteTime": {
     "end_time": "2024-05-24T22:31:45.968862900Z",
     "start_time": "2024-05-24T22:31:45.460896600Z"
    }
   },
   "id": "fc71538a04b79f3d",
   "execution_count": 1
  },
  {
   "cell_type": "markdown",
   "source": [
    "# Cumulocity Events"
   ],
   "metadata": {
    "collapsed": false
   },
   "id": "4731a9bb9e99a8d6"
  },
  {
   "cell_type": "code",
   "outputs": [],
   "source": [
    "dateFrom = date(2024, calendar.MARCH, 1)\n",
    "dateTo = date(2024, calendar.FEBRUARY, 1)"
   ],
   "metadata": {
    "collapsed": false,
    "ExecuteTime": {
     "end_time": "2024-05-24T22:31:46.008385600Z",
     "start_time": "2024-05-24T22:31:45.969864400Z"
    }
   },
   "id": "d2907f7663ced33f",
   "execution_count": 2
  },
  {
   "cell_type": "code",
   "outputs": [],
   "source": [
    "if not pathExists('c8y_data.json'):\n",
    "    saveToFile(Devices.requestTotalEvents(dateTo).c8y_data, 'c8y_data.json')"
   ],
   "metadata": {
    "collapsed": false,
    "ExecuteTime": {
     "end_time": "2024-05-24T22:31:46.048502300Z",
     "start_time": "2024-05-24T22:31:46.007385600Z"
    }
   },
   "id": "c18d7df03136070e",
   "execution_count": 3
  },
  {
   "cell_type": "code",
   "outputs": [
    {
     "name": "stderr",
     "output_type": "stream",
     "text": [
      "Mar 2024: 100%|██████████| 4361/4361 [time elapsed: 1:05:31]\n",
      "Feb 2024: 100%|██████████| 4361/4361 [time elapsed: 49:25]\n"
     ]
    }
   ],
   "source": [
    "eventsTotal(dateFrom, dateTo)"
   ],
   "metadata": {
    "collapsed": false,
    "ExecuteTime": {
     "end_time": "2024-05-25T00:26:42.769132700Z",
     "start_time": "2024-05-24T22:31:46.041890900Z"
    }
   },
   "id": "13276de379a99859",
   "execution_count": 4
  },
  {
   "cell_type": "code",
   "outputs": [
    {
     "name": "stderr",
     "output_type": "stream",
     "text": [
      "Mar 2024: 100%|██████████| 4361/4361 [time elapsed: 23:42]\n",
      "Feb 2024: 100%|██████████| 4361/4361 [time elapsed: 22:32]\n"
     ]
    }
   ],
   "source": [
    "eventsType(dateFrom, dateTo)"
   ],
   "metadata": {
    "collapsed": false,
    "ExecuteTime": {
     "end_time": "2024-05-25T01:12:58.564955600Z",
     "start_time": "2024-05-25T00:26:42.772158900Z"
    }
   },
   "id": "db1168ce9cb90fad",
   "execution_count": 5
  },
  {
   "cell_type": "code",
   "outputs": [
    {
     "name": "stderr",
     "output_type": "stream",
     "text": [
      "Mar 2024: 100%|██████████| 4361/4361 [time elapsed: 27:34]\n",
      "Feb 2024: 100%|██████████| 4361/4361 [time elapsed: 26:30]\n"
     ]
    }
   ],
   "source": [
    "eventsTypeFragment(dateFrom, dateTo)"
   ],
   "metadata": {
    "collapsed": false,
    "ExecuteTime": {
     "end_time": "2024-05-25T02:07:04.620360300Z",
     "start_time": "2024-05-25T01:12:58.564955600Z"
    }
   },
   "id": "e40a005e88a0f311",
   "execution_count": 6
  },
  {
   "cell_type": "code",
   "outputs": [
    {
     "name": "stdout",
     "output_type": "stream",
     "text": [
      "Total events from monthly events: 8,298,484\n",
      "Total events from monthly event types: 8,298,484\n",
      "Total events from monthly event types + fragments: 12,668,670\n"
     ]
    }
   ],
   "source": [
    "monthlyEventTotal()\n",
    "monthlyEventType()\n",
    "monthlyEventTypeFragment()"
   ],
   "metadata": {
    "collapsed": false,
    "ExecuteTime": {
     "end_time": "2024-05-25T02:07:04.820803800Z",
     "start_time": "2024-05-25T02:07:04.620360300Z"
    }
   },
   "id": "7c904fe1749dd483",
   "execution_count": 7
  },
  {
   "cell_type": "code",
   "outputs": [
    {
     "name": "stdout",
     "output_type": "stream",
     "text": [
      "Device count: 4361\n",
      "Devices that send events 27.77%\n",
      "Total events: 357,864,444\n",
      "Oldest event: 2016-11-03\n",
      "Latest event: 2024-03-31\n"
     ]
    }
   ],
   "source": [
    "eventStatistics()"
   ],
   "metadata": {
    "collapsed": false,
    "ExecuteTime": {
     "end_time": "2024-05-25T02:07:05.161697200Z",
     "start_time": "2024-05-25T02:07:04.820803800Z"
    }
   },
   "id": "235d96705a29bd63",
   "execution_count": 8
  }
 ],
 "metadata": {
  "kernelspec": {
   "display_name": "Python 3",
   "language": "python",
   "name": "python3"
  },
  "language_info": {
   "codemirror_mode": {
    "name": "ipython",
    "version": 2
   },
   "file_extension": ".py",
   "mimetype": "text/x-python",
   "name": "python",
   "nbconvert_exporter": "python",
   "pygments_lexer": "ipython2",
   "version": "2.7.6"
  }
 },
 "nbformat": 4,
 "nbformat_minor": 5
}
