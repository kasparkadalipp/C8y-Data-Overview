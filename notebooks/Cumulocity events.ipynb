{
 "cells": [
  {
   "cell_type": "code",
   "outputs": [],
   "source": [
    "%load_ext autoreload\n",
    "%autoreload 2\n",
    "import calendar\n",
    "from src.cumulocity import eventsTotal, eventsType, eventsTypeFragment, Devices\n",
    "from src.data_overview.statistics import monthlyEventType, monthlyEventTotal, monthlyEventTypeFragment, eventStatistics\n",
    "from src.data_overview.event_schema import createEventTypeFragmentSchema, createEventTypeSchema\n",
    "from src.utils import pathExists, saveToFile\n",
    "from datetime import date"
   ],
   "metadata": {
    "collapsed": false,
    "ExecuteTime": {
     "end_time": "2024-05-25T12:36:29.242947800Z",
     "start_time": "2024-05-25T12:36:28.708914200Z"
    }
   },
   "id": "fc71538a04b79f3d",
   "execution_count": 1
  },
  {
   "cell_type": "markdown",
   "source": [
    "# Cumulocity Events"
   ],
   "metadata": {
    "collapsed": false
   },
   "id": "4731a9bb9e99a8d6"
  },
  {
   "cell_type": "code",
   "outputs": [],
   "source": [
    "dateFrom = date(2024, calendar.MARCH, 1)\n",
    "dateTo = date(2024, calendar.FEBRUARY, 1)"
   ],
   "metadata": {
    "collapsed": false,
    "ExecuteTime": {
     "end_time": "2024-05-24T22:31:46.008385600Z",
     "start_time": "2024-05-24T22:31:45.969864400Z"
    }
   },
   "id": "d2907f7663ced33f",
   "execution_count": 2
  },
  {
   "cell_type": "code",
   "outputs": [],
   "source": [
    "if not pathExists('c8y_data.json'):\n",
    "    saveToFile(Devices.requestTotalEvents(dateTo).c8y_data, 'c8y_data.json')"
   ],
   "metadata": {
    "collapsed": false,
    "ExecuteTime": {
     "end_time": "2024-05-24T22:31:46.048502300Z",
     "start_time": "2024-05-24T22:31:46.007385600Z"
    }
   },
   "id": "c18d7df03136070e",
   "execution_count": 3
  },
  {
   "cell_type": "code",
   "outputs": [
    {
     "name": "stderr",
     "output_type": "stream",
     "text": [
      "Mar 2024: 100%|██████████| 4361/4361 [time elapsed: 1:05:31]\n",
      "Feb 2024: 100%|██████████| 4361/4361 [time elapsed: 49:25]\n"
     ]
    }
   ],
   "source": [
    "eventsTotal(dateFrom, dateTo)"
   ],
   "metadata": {
    "collapsed": false,
    "ExecuteTime": {
     "end_time": "2024-05-25T00:26:42.769132700Z",
     "start_time": "2024-05-24T22:31:46.041890900Z"
    }
   },
   "id": "13276de379a99859",
   "execution_count": 4
  },
  {
   "cell_type": "code",
   "outputs": [
    {
     "name": "stderr",
     "output_type": "stream",
     "text": [
      "Mar 2024: 100%|██████████| 4361/4361 [time elapsed: 23:42]\n",
      "Feb 2024: 100%|██████████| 4361/4361 [time elapsed: 22:32]\n"
     ]
    }
   ],
   "source": [
    "eventsType(dateFrom, dateTo)"
   ],
   "metadata": {
    "collapsed": false,
    "ExecuteTime": {
     "end_time": "2024-05-25T01:12:58.564955600Z",
     "start_time": "2024-05-25T00:26:42.772158900Z"
    }
   },
   "id": "db1168ce9cb90fad",
   "execution_count": 5
  },
  {
   "cell_type": "code",
   "outputs": [
    {
     "name": "stderr",
     "output_type": "stream",
     "text": [
      "Mar 2024: 100%|██████████| 4361/4361 [time elapsed: 27:34]\n",
      "Feb 2024: 100%|██████████| 4361/4361 [time elapsed: 26:30]\n"
     ]
    }
   ],
   "source": [
    "eventsTypeFragment(dateFrom, dateTo)"
   ],
   "metadata": {
    "collapsed": false,
    "ExecuteTime": {
     "end_time": "2024-05-25T02:07:04.620360300Z",
     "start_time": "2024-05-25T01:12:58.564955600Z"
    }
   },
   "id": "e40a005e88a0f311",
   "execution_count": 6
  },
  {
   "cell_type": "code",
   "outputs": [
    {
     "name": "stdout",
     "output_type": "stream",
     "text": [
      "Total events from monthly events: 8,298,484\n",
      "Total events from monthly event types: 8,298,484\n",
      "Total events from monthly event types + fragments: 12,668,670\n"
     ]
    }
   ],
   "source": [
    "monthlyEventTotal()\n",
    "monthlyEventType()\n",
    "monthlyEventTypeFragment()"
   ],
   "metadata": {
    "collapsed": false,
    "ExecuteTime": {
     "end_time": "2024-05-25T02:07:04.820803800Z",
     "start_time": "2024-05-25T02:07:04.620360300Z"
    }
   },
   "id": "7c904fe1749dd483",
   "execution_count": 7
  },
  {
   "cell_type": "code",
   "outputs": [
    {
     "name": "stdout",
     "output_type": "stream",
     "text": [
      "Device count: 4361\n",
      "Devices that send events 27.77%\n",
      "Total events: 357,864,444\n",
      "Oldest event: 2016-11-03\n",
      "Latest event: 2024-03-31\n"
     ]
    }
   ],
   "source": [
    "eventStatistics()"
   ],
   "metadata": {
    "collapsed": false,
    "ExecuteTime": {
     "end_time": "2024-05-25T02:07:05.161697200Z",
     "start_time": "2024-05-25T02:07:04.820803800Z"
    }
   },
   "id": "235d96705a29bd63",
   "execution_count": 8
  },
  {
   "cell_type": "code",
   "outputs": [
    {
     "data": {
      "text/plain": "            deviceType                   eventType    count  \\\n0   com_cityntel_light         com_cityntel_status  1371959   \n1  com_cityntel_sensor          com_cityntel_event   681315   \n2    com_ridango_route    com_ridango_trip_arrival   118705   \n3    com_ridango_route      com_ridango_validation  2050738   \n4    com_ridango_route  com_ridango_trip_departure   118705   \n5    DAL_series_target            avc_VehicleEvent  3688061   \n6    DAL_series_target                         dal   269001   \n\n                                          jsonSchema  \\\n0  {\"type\": \"object\", \"properties\": {\"com_citynte...   \n1  {\"type\": \"object\", \"properties\": {\"com_citynte...   \n2  {\"type\": \"object\", \"properties\": {\"com_ridango...   \n3  {\"type\": \"object\", \"properties\": {\"com_ridango...   \n4  {\"type\": \"object\", \"properties\": {\"com_ridango...   \n5  {\"type\": \"object\", \"properties\": {\"avc_Vehicle...   \n6  {\"type\": \"object\", \"properties\": {\"current\": {...   \n\n                                       example event  \n0  {'creationTime': '2024-04-01T03:00:17.650+03:0...  \n1  {'creationTime': '2024-04-01T03:00:15.987+03:0...  \n2  {'creationTime': '2024-04-02T05:00:45.122+03:0...  \n3  {'creationTime': '2024-04-01T05:06:05.949+03:0...  \n4  {'creationTime': '2024-04-01T05:00:42.756+03:0...  \n5  {'creationTime': '2024-04-01T02:57:42.273+03:0...  \n6  {'creationTime': '2024-04-01T02:00:01.788+03:0...  ",
      "text/html": "<div>\n<style scoped>\n    .dataframe tbody tr th:only-of-type {\n        vertical-align: middle;\n    }\n\n    .dataframe tbody tr th {\n        vertical-align: top;\n    }\n\n    .dataframe thead th {\n        text-align: right;\n    }\n</style>\n<table border=\"1\" class=\"dataframe\">\n  <thead>\n    <tr style=\"text-align: right;\">\n      <th></th>\n      <th>deviceType</th>\n      <th>eventType</th>\n      <th>count</th>\n      <th>jsonSchema</th>\n      <th>example event</th>\n    </tr>\n  </thead>\n  <tbody>\n    <tr>\n      <th>0</th>\n      <td>com_cityntel_light</td>\n      <td>com_cityntel_status</td>\n      <td>1371959</td>\n      <td>{\"type\": \"object\", \"properties\": {\"com_citynte...</td>\n      <td>{'creationTime': '2024-04-01T03:00:17.650+03:0...</td>\n    </tr>\n    <tr>\n      <th>1</th>\n      <td>com_cityntel_sensor</td>\n      <td>com_cityntel_event</td>\n      <td>681315</td>\n      <td>{\"type\": \"object\", \"properties\": {\"com_citynte...</td>\n      <td>{'creationTime': '2024-04-01T03:00:15.987+03:0...</td>\n    </tr>\n    <tr>\n      <th>2</th>\n      <td>com_ridango_route</td>\n      <td>com_ridango_trip_arrival</td>\n      <td>118705</td>\n      <td>{\"type\": \"object\", \"properties\": {\"com_ridango...</td>\n      <td>{'creationTime': '2024-04-02T05:00:45.122+03:0...</td>\n    </tr>\n    <tr>\n      <th>3</th>\n      <td>com_ridango_route</td>\n      <td>com_ridango_validation</td>\n      <td>2050738</td>\n      <td>{\"type\": \"object\", \"properties\": {\"com_ridango...</td>\n      <td>{'creationTime': '2024-04-01T05:06:05.949+03:0...</td>\n    </tr>\n    <tr>\n      <th>4</th>\n      <td>com_ridango_route</td>\n      <td>com_ridango_trip_departure</td>\n      <td>118705</td>\n      <td>{\"type\": \"object\", \"properties\": {\"com_ridango...</td>\n      <td>{'creationTime': '2024-04-01T05:00:42.756+03:0...</td>\n    </tr>\n    <tr>\n      <th>5</th>\n      <td>DAL_series_target</td>\n      <td>avc_VehicleEvent</td>\n      <td>3688061</td>\n      <td>{\"type\": \"object\", \"properties\": {\"avc_Vehicle...</td>\n      <td>{'creationTime': '2024-04-01T02:57:42.273+03:0...</td>\n    </tr>\n    <tr>\n      <th>6</th>\n      <td>DAL_series_target</td>\n      <td>dal</td>\n      <td>269001</td>\n      <td>{\"type\": \"object\", \"properties\": {\"current\": {...</td>\n      <td>{'creationTime': '2024-04-01T02:00:01.788+03:0...</td>\n    </tr>\n  </tbody>\n</table>\n</div>"
     },
     "execution_count": 9,
     "metadata": {},
     "output_type": "execute_result"
    }
   ],
   "source": [
    "createEventTypeFragmentSchema()\n",
    "createEventTypeSchema()"
   ],
   "metadata": {
    "collapsed": false,
    "ExecuteTime": {
     "end_time": "2024-05-25T12:36:37.932623Z",
     "start_time": "2024-05-25T12:36:37.051289900Z"
    }
   },
   "id": "dc7b06d295e55af5",
   "execution_count": 9
  }
 ],
 "metadata": {
  "kernelspec": {
   "display_name": "Python 3",
   "language": "python",
   "name": "python3"
  },
  "language_info": {
   "codemirror_mode": {
    "name": "ipython",
    "version": 2
   },
   "file_extension": ".py",
   "mimetype": "text/x-python",
   "name": "python",
   "nbconvert_exporter": "python",
   "pygments_lexer": "ipython2",
   "version": "2.7.6"
  }
 },
 "nbformat": 4,
 "nbformat_minor": 5
}
