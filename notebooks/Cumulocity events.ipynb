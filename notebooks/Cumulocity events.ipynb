{
 "cells": [
  {
   "cell_type": "code",
   "outputs": [],
   "source": [
    "%load_ext autoreload\n",
    "%autoreload 2\n",
    "import calendar\n",
    "from src.cumulocity import eventsTotal, eventsType, eventsTypeFragment\n",
    "from src.data_overview.statistics import monthlyEventType, monthlyEventTotal, monthlyEventTypeFragment \n",
    "from datetime import date"
   ],
   "metadata": {
    "collapsed": false
   },
   "id": "fc71538a04b79f3d",
   "execution_count": null
  },
  {
   "cell_type": "markdown",
   "source": [
    "# Cumulocity Events"
   ],
   "metadata": {
    "collapsed": false
   },
   "id": "4731a9bb9e99a8d6"
  },
  {
   "cell_type": "code",
   "outputs": [],
   "source": [
    "dateFrom = date(2024, calendar.MARCH, 1)\n",
    "dateTo = date(2024, calendar.FEBRUARY, 1)"
   ],
   "metadata": {
    "collapsed": false
   },
   "id": "d2907f7663ced33f",
   "execution_count": null
  },
  {
   "cell_type": "code",
   "outputs": [],
   "source": [
    "eventsTotal(dateFrom, dateTo)"
   ],
   "metadata": {
    "collapsed": false
   },
   "id": "13276de379a99859",
   "execution_count": null
  },
  {
   "cell_type": "code",
   "outputs": [],
   "source": [
    "eventsType(dateFrom, dateTo)"
   ],
   "metadata": {
    "collapsed": false
   },
   "id": "db1168ce9cb90fad",
   "execution_count": null
  },
  {
   "cell_type": "code",
   "outputs": [],
   "source": [
    "eventsTypeFragment(dateFrom, dateTo)"
   ],
   "metadata": {
    "collapsed": false
   },
   "id": "e40a005e88a0f311",
   "execution_count": null
  },
  {
   "cell_type": "code",
   "outputs": [],
   "source": [
    "monthlyEventTotal()\n",
    "monthlyEventType()\n",
    "monthlyEventTypeFragment()"
   ],
   "metadata": {
    "collapsed": false
   },
   "id": "7c904fe1749dd483"
  }
 ],
 "metadata": {
  "kernelspec": {
   "display_name": "Python 3",
   "language": "python",
   "name": "python3"
  },
  "language_info": {
   "codemirror_mode": {
    "name": "ipython",
    "version": 2
   },
   "file_extension": ".py",
   "mimetype": "text/x-python",
   "name": "python",
   "nbconvert_exporter": "python",
   "pygments_lexer": "ipython2",
   "version": "2.7.6"
  }
 },
 "nbformat": 4,
 "nbformat_minor": 5
}
