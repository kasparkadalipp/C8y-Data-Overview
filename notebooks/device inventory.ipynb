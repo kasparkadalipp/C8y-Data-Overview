{
 "cells": [
  {
   "cell_type": "code",
   "outputs": [],
   "source": [
    "%load_ext autoreload\n",
    "%autoreload 2"
   ],
   "metadata": {
    "collapsed": false,
    "ExecuteTime": {
     "end_time": "2024-05-18T11:43:04.517032500Z",
     "start_time": "2024-05-18T11:43:04.478172600Z"
    }
   },
   "id": "78aba71cd6659f02",
   "execution_count": 1
  },
  {
   "cell_type": "code",
   "outputs": [],
   "source": [
    "from dotenv import load_dotenv\n",
    "load_dotenv('../.env')\n",
    "from src.cumulocity import getCumulocityApi\n",
    "from src.dataRequests import getDeviceGroups, InitialRequests\n",
    "from src.utils import saveToFile\n",
    "from datetime import date\n",
    "import calendar"
   ],
   "metadata": {
    "collapsed": false,
    "ExecuteTime": {
     "end_time": "2024-05-18T11:43:04.684840200Z",
     "start_time": "2024-05-18T11:43:04.507050800Z"
    }
   },
   "id": "fc71538a04b79f3d",
   "execution_count": 2
  },
  {
   "cell_type": "code",
   "outputs": [],
   "source": [
    "folder = \"example\""
   ],
   "metadata": {
    "collapsed": false,
    "ExecuteTime": {
     "end_time": "2024-05-18T11:43:04.709476800Z",
     "start_time": "2024-05-18T11:43:04.665840Z"
    }
   },
   "id": "691549cf1341f5e8",
   "execution_count": 3
  },
  {
   "cell_type": "markdown",
   "source": [
    "# Cumulocity Data"
   ],
   "metadata": {
    "collapsed": false
   },
   "id": "4731a9bb9e99a8d6"
  },
  {
   "cell_type": "code",
   "outputs": [],
   "source": [
    "c8y = getCumulocityApi()"
   ],
   "metadata": {
    "collapsed": false,
    "ExecuteTime": {
     "end_time": "2024-05-18T11:43:04.728524500Z",
     "start_time": "2024-05-18T11:43:04.698477200Z"
    }
   },
   "id": "d7a402d0435df2c",
   "execution_count": 4
  },
  {
   "cell_type": "code",
   "outputs": [
    {
     "name": "stderr",
     "output_type": "stream",
     "text": [
      "Requesting groups: 100%|██████████| 51/51 [time elapsed: 00:00]\n"
     ]
    }
   ],
   "source": [
    "c8y_groups = getDeviceGroups()\n",
    "saveToFile(c8y_groups, f\"{folder}/c8y_groups.json\", overwrite=True)"
   ],
   "metadata": {
    "collapsed": false,
    "ExecuteTime": {
     "end_time": "2024-05-18T11:43:05.462494200Z",
     "start_time": "2024-05-18T11:43:04.729507900Z"
    }
   },
   "id": "5ce2420738cd0ca8",
   "execution_count": 5
  },
  {
   "cell_type": "code",
   "outputs": [],
   "source": [
    "dateFrom = date(1970, 1, 1)  # inclusive\n",
    "dateTo = date(2024, calendar.MARCH, 1)  # non-inclusive"
   ],
   "metadata": {
    "collapsed": false,
    "ExecuteTime": {
     "end_time": "2024-05-18T11:43:05.492244500Z",
     "start_time": "2024-05-18T11:43:05.462494200Z"
    }
   },
   "id": "d2907f7663ced33f",
   "execution_count": 6
  },
  {
   "cell_type": "code",
   "outputs": [
    {
     "name": "stderr",
     "output_type": "stream",
     "text": [
      "Requesting device inventory for depth 0: 100%|██████████| 23/23 [time elapsed: 00:00]\n",
      "Requesting device inventory for depth 1: 100%|██████████| 8691/8691 [time elapsed: 01:49]\n",
      "Requesting device inventory for depth 2: 100%|██████████| 10557/10557 [time elapsed: 02:14]\n",
      "Requesting device inventory for depth 3: 100%|██████████| 65/65 [time elapsed: 00:00]\n"
     ]
    },
    {
     "name": "stdout",
     "output_type": "stream",
     "text": []
    },
    {
     "name": "stderr",
     "output_type": "stream",
     "text": [
      "Requesting supported series: 100%|██████████| 19336/19336 [time elapsed: 08:09]\n",
      "Requesting total measurements: 100%|██████████| 19336/19336 [time elapsed: 09:24]\n"
     ]
    }
   ],
   "source": [
    "c8y_requests = InitialRequests(dateFrom, dateTo)\n",
    "c8y_requests.requestTotalMeasurements()\n",
    "saveToFile(c8y_requests.c8y_data, f\"{folder}/c8y_data.json\", overwrite=True)"
   ],
   "metadata": {
    "collapsed": false,
    "ExecuteTime": {
     "end_time": "2024-05-18T12:04:45.328089900Z",
     "start_time": "2024-05-18T11:43:05.492244500Z"
    }
   },
   "id": "5b4828f579dbbc5d",
   "execution_count": 7
  },
  {
   "cell_type": "code",
   "outputs": [
    {
     "name": "stderr",
     "output_type": "stream",
     "text": [
      "Requesting total events: 100%|██████████| 19336/19336 [time elapsed: 4:43:59]\n"
     ]
    }
   ],
   "source": [
    "c8y_requests.requestTotalEvents()\n",
    "saveToFile(c8y_requests.c8y_data, f\"{folder}/c8y_data.json\", overwrite=True)"
   ],
   "metadata": {
    "collapsed": false,
    "ExecuteTime": {
     "end_time": "2024-05-18T16:48:45.107470200Z",
     "start_time": "2024-05-18T12:04:45.315958200Z"
    }
   },
   "id": "f59c1528278aa809",
   "execution_count": 8
  }
 ],
 "metadata": {
  "kernelspec": {
   "display_name": "Python 3",
   "language": "python",
   "name": "python3"
  },
  "language_info": {
   "codemirror_mode": {
    "name": "ipython",
    "version": 2
   },
   "file_extension": ".py",
   "mimetype": "text/x-python",
   "name": "python",
   "nbconvert_exporter": "python",
   "pygments_lexer": "ipython2",
   "version": "2.7.6"
  }
 },
 "nbformat": 4,
 "nbformat_minor": 5
}
