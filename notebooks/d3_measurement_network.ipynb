{
 "cells": [
  {
   "cell_type": "code",
   "outputs": [],
   "source": [
    "\n",
    "%load_ext autoreload\n",
    "from dotenv import load_dotenv\n",
    "\n",
    "load_dotenv('.env.telia')\n",
    "%autoreload 2"
   ],
   "metadata": {
    "collapsed": false,
    "ExecuteTime": {
     "end_time": "2024-04-22T23:31:55.617272700Z",
     "start_time": "2024-04-22T23:31:55.582914700Z"
    }
   },
   "id": "e5a2c6f3b4ee37f3",
   "execution_count": 1
  },
  {
   "cell_type": "code",
   "outputs": [],
   "source": [
    "from src.utils import saveToFile, fileContentsFromFolder, readFileContents\n",
    "import json\n",
    "import re"
   ],
   "metadata": {
    "collapsed": false,
    "ExecuteTime": {
     "end_time": "2024-04-23T04:09:28.226782300Z",
     "start_time": "2024-04-23T04:09:28.197691800Z"
    }
   },
   "id": "e07e58828ab4972f",
   "execution_count": 44
  },
  {
   "cell_type": "code",
   "outputs": [],
   "source": [
    "basePath = '../data/telia/measurements/fragmentSeries/'"
   ],
   "metadata": {
    "collapsed": false,
    "ExecuteTime": {
     "end_time": "2024-04-23T04:03:00.821913600Z",
     "start_time": "2024-04-23T04:03:00.794169400Z"
    }
   },
   "id": "ce196343bc3e6122",
   "execution_count": 33
  },
  {
   "cell_type": "code",
   "outputs": [],
   "source": [
    "with open('../data/telia/c8y_data.json', 'r', encoding='utf8') as json_file:\n",
    "    c8y_data = json.load(json_file)"
   ],
   "metadata": {
    "collapsed": true,
    "ExecuteTime": {
     "end_time": "2024-04-22T23:33:03.993058600Z",
     "start_time": "2024-04-22T23:32:14.644609500Z"
    }
   },
   "id": "initial_id",
   "execution_count": 2
  },
  {
   "cell_type": "code",
   "outputs": [],
   "source": [
    "def getMeasurementFields(measurement: dict):\n",
    "    result = set()\n",
    "    measurementType = measurement['type']\n",
    "    ignoredKeys = [\"lastUpdated\", \"creationTime\", \"self\", \"source\", \"time\", \"id\", \"text\"] + ['type']\n",
    "\n",
    "    for fragment, fragmentObj in measurement.items():\n",
    "        if fragment in ignoredKeys or fragmentObj is None: continue\n",
    "        for series, seriesObj in fragmentObj.items():\n",
    "            unit = seriesObj['unit'] if 'unit' in seriesObj else ''\n",
    "            result.add((measurementType, fragment, series, unit))\n",
    "    return result\n",
    "\n",
    "\n",
    "def getUniqueFields(files):\n",
    "    result = set()\n",
    "\n",
    "    for jsonFile in files:\n",
    "        for device in jsonFile:\n",
    "            deviceId = device['deviceId']\n",
    "            deviceType = device['deviceType']\n",
    "    \n",
    "            for fragmentSeries in device['fragmentSeries']:\n",
    "                measurement = fragmentSeries['measurement']\n",
    "                if measurement:\n",
    "                    uniqueFields = getMeasurementFields(measurement)\n",
    "                    for measurementType, fragment, series, unit in uniqueFields:\n",
    "                        result.add((deviceType, measurementType, fragment, series, unit))\n",
    "    return result"
   ],
   "metadata": {
    "collapsed": false,
    "ExecuteTime": {
     "end_time": "2024-04-23T04:04:38.544534700Z",
     "start_time": "2024-04-23T04:04:38.509964400Z"
    }
   },
   "id": "3e96c76a5863a265",
   "execution_count": 37
  },
  {
   "cell_type": "code",
   "outputs": [],
   "source": [
    "def formatName(item, group):\n",
    "    if group == 0:\n",
    "        return \"Measurements\"\n",
    "    value = str(item)\n",
    "    if \".\" in value:\n",
    "        value = value.rsplit(\".\")[1]  # splits series\n",
    "    return value[2:]"
   ],
   "metadata": {
    "collapsed": false,
    "ExecuteTime": {
     "end_time": "2024-04-23T02:56:45.884025900Z",
     "start_time": "2024-04-23T02:56:45.849927700Z"
    }
   },
   "id": "539d15e9b30e317d",
   "execution_count": 11
  },
  {
   "cell_type": "code",
   "outputs": [],
   "source": [
    "def fixSensorFragment(name):\n",
    "    match = re.match(\"^(sensor)_\\\\d{1,4}(.*)\", name)  # sensor_1235_daily -> sensor_daily\n",
    "    if match:\n",
    "        return match.group(1) + match.group(2)\n",
    "    return name"
   ],
   "metadata": {
    "collapsed": false,
    "ExecuteTime": {
     "end_time": "2024-04-23T03:21:51.233510800Z",
     "start_time": "2024-04-23T03:21:51.206376600Z"
    }
   },
   "id": "2355d90dac15f804",
   "execution_count": 29
  },
  {
   "cell_type": "code",
   "outputs": [],
   "source": [
    "def createNetworkData(inputData, fileName, filtered=False):\n",
    "    links = set()\n",
    "    nodes = set()\n",
    "    \n",
    "    for deviceType, measurementType, fragment, series, unit in inputData:\n",
    "        level1 = deviceType\n",
    "        level2 = measurementType\n",
    "        level3 = fixSensorFragment(fragment) if filtered else fragment\n",
    "        level4 = series\n",
    "        level5 = unit\n",
    "        \n",
    "        if level1 is None or level1 == \"\": level1 = \"<missing deviceType>\"\n",
    "        if level2 is None or level2 == \"\": level2 = \"<missing measurementType>\"\n",
    "        if level3 is None or level3 == \"\": level3 = \"<missing fragment>\"\n",
    "        if level4 is None or level4 == \"\": level4 = \"<missing series>\"\n",
    "        if level5 is None or level5 == \"\": level5 = \"<missing unit>\"\n",
    "    \n",
    "        root = \"0_Measurements\"\n",
    "        source1 = f\"1_{level1}\"\n",
    "        source2 = f\"2_{level2}\"\n",
    "        source3 = f\"3_{level3}\"\n",
    "        source4 = f\"4_{level4}\"\n",
    "        source5 = f\"5_{level5}\"\n",
    "    \n",
    "        nodes.add((root, 0))\n",
    "        nodes.add((f\"1_{level1}\", 1))\n",
    "        nodes.add((f\"2_{level2}\", 2))\n",
    "        nodes.add((f\"3_{level3}\", 3))\n",
    "        nodes.add((f\"4_{level4}\", 4))\n",
    "        nodes.add((f\"5_{level5}\", 5))\n",
    "    \n",
    "        links.add((root, source1))\n",
    "        links.add((source1, source2))\n",
    "        links.add((source2, source3))\n",
    "        links.add((source3, source4))\n",
    "        links.add((source4, source5))\n",
    "        \n",
    "    data = {\n",
    "        \"nodes\": [{\"id\": id,\"group\": group,\"name\": formatName(id, group)} for id, group in nodes],\n",
    "        \"links\": [{\"source\": source, \"target\": target} for source, target in links]\n",
    "    }\n",
    "\n",
    "    saveToFile(data, \"../visualisations/telia/\" + fileName, overwrite=True)"
   ],
   "metadata": {
    "collapsed": false,
    "ExecuteTime": {
     "end_time": "2024-04-23T04:07:39.174946500Z",
     "start_time": "2024-04-23T04:07:39.148033700Z"
    }
   },
   "id": "5b445e13db50f6e0",
   "execution_count": 39
  },
  {
   "cell_type": "code",
   "outputs": [],
   "source": [
    "def visualizeWholeDataset(filtered = False):\n",
    "    inputData =  getUniqueFields(fileContentsFromFolder(basePath))\n",
    "    fileName = f'network (total measurements) {\"[filtered]\" if filtered else ''}.json'\n",
    "    createNetworkData(inputData, fileName, filtered)\n",
    "\n",
    "def visualiseMonth(filtered = False):\n",
    "    inputData =  getUniqueFields([readFileContents(basePath + 'c8y_measurements 2024-03-01 - 2024-04-01.json')])\n",
    "    fileName = f'network (month) {\"[filtered]\" if filtered else ''}.json'\n",
    "    createNetworkData(inputData, fileName, filtered)"
   ],
   "metadata": {
    "collapsed": false,
    "ExecuteTime": {
     "end_time": "2024-04-23T04:11:50.374930Z",
     "start_time": "2024-04-23T04:11:50.348933900Z"
    }
   },
   "id": "7c5caf97b7f657d",
   "execution_count": 48
  },
  {
   "cell_type": "code",
   "outputs": [],
   "source": [
    "visualiseMonth()"
   ],
   "metadata": {
    "collapsed": false,
    "ExecuteTime": {
     "end_time": "2024-04-23T04:09:43.417966400Z",
     "start_time": "2024-04-23T04:09:43.003948800Z"
    }
   },
   "id": "215a62e983aee19",
   "execution_count": 47
  }
 ],
 "metadata": {
  "kernelspec": {
   "display_name": "Python 3",
   "language": "python",
   "name": "python3"
  },
  "language_info": {
   "codemirror_mode": {
    "name": "ipython",
    "version": 2
   },
   "file_extension": ".py",
   "mimetype": "text/x-python",
   "name": "python",
   "nbconvert_exporter": "python",
   "pygments_lexer": "ipython2",
   "version": "2.7.6"
  }
 },
 "nbformat": 4,
 "nbformat_minor": 5
}
