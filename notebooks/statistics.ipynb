{
 "cells": [
  {
   "cell_type": "code",
   "execution_count": 5,
   "id": "initial_id",
   "metadata": {
    "collapsed": true,
    "ExecuteTime": {
     "end_time": "2024-04-21T20:18:04.026544600Z",
     "start_time": "2024-04-21T20:18:04.008713100Z"
    }
   },
   "outputs": [],
   "source": [
    "import json\n",
    "from dateutil.parser import parse\n",
    "import os"
   ]
  },
  {
   "cell_type": "code",
   "outputs": [],
   "source": [
    "with open('../data/telia/c8y_data.json', 'r', encoding='utf8') as json_file:\n",
    "    c8y_data = json.load(json_file)"
   ],
   "metadata": {
    "collapsed": false,
    "ExecuteTime": {
     "end_time": "2024-04-21T12:38:01.504007600Z",
     "start_time": "2024-04-21T12:38:00.906324200Z"
    }
   },
   "id": "2d7399a5e00a77ee",
   "execution_count": 2
  },
  {
   "cell_type": "code",
   "outputs": [],
   "source": [
    "basePath = \"../data/telia/\""
   ],
   "metadata": {
    "collapsed": false,
    "ExecuteTime": {
     "end_time": "2024-04-21T22:19:29.061151400Z",
     "start_time": "2024-04-21T22:19:29.050710Z"
    }
   },
   "id": "cd38b27847704f9",
   "execution_count": 29
  },
  {
   "cell_type": "code",
   "outputs": [],
   "source": [
    "def getFilePaths(folder):\n",
    "    path = basePath + folder\n",
    "    if not os.path.exists(path):\n",
    "        return []\n",
    "    fileNames = os.listdir(path)\n",
    "    return [path + file for file in fileNames]\n",
    "\n",
    "def getFileContents(filePath):\n",
    "    with open(filePath, 'r', encoding='utf8') as json_file:\n",
    "        return json.load(json_file)\n",
    "\n",
    "def getFileContentsByFolder(folder):\n",
    "    return [getFileContents(filePath) for filePath in getFilePaths(folder)]"
   ],
   "metadata": {
    "collapsed": false,
    "ExecuteTime": {
     "end_time": "2024-04-21T22:20:58.187029100Z",
     "start_time": "2024-04-21T22:20:58.178021300Z"
    }
   },
   "id": "4aef40bda47518f9",
   "execution_count": 33
  },
  {
   "cell_type": "code",
   "outputs": [],
   "source": [
    "def statistics():\n",
    "    print('Data from 1970-01-01 to 2024-04-01')\n",
    "    print(f'Total events : {sum([device['eventCount'] for device in c8y_data]):,}')\n",
    "    print(f'Total measurements : {sum([device['measurementCount'] for device in c8y_data]):,}')\n",
    "    print(f'Devices that send measurements {sum([bool(device['latestMeasurement']) for device in c8y_data]) / len(c8y_data) * 100:.2f}%')\n",
    "    print(f'Devices that send events {sum([bool(device['latestEvent']) for device in c8y_data]) / len(c8y_data) * 100:.2f}%')\n",
    "    print(f'Oldest event {min([parse(device['oldestEvent']['time']).date() for device in c8y_data if device['oldestEvent']])}')\n",
    "    print(f'Latest event {max([parse(device['latestEvent']['time']).date() for device in c8y_data if device['latestEvent']])}')\n",
    "    print(f'Oldest measurement {min([parse(device['oldestMeasurement']['time']).date() for device in c8y_data if device['oldestMeasurement']])}')\n",
    "    print(f'Latest measurement {max([parse(device['latestMeasurement']['time']).date() for device in c8y_data if device['latestMeasurement']])}')"
   ],
   "metadata": {
    "collapsed": false,
    "ExecuteTime": {
     "end_time": "2024-04-21T12:38:01.574652100Z",
     "start_time": "2024-04-21T12:38:01.568712800Z"
    }
   },
   "id": "2f4471c231b74e2c",
   "execution_count": 3
  },
  {
   "cell_type": "code",
   "outputs": [],
   "source": [
    "def monthlyMeasurementTotal():\n",
    "    monthlyFileContents = getFileContentsByFolder('measurements/total/')\n",
    "    total = 0\n",
    "    for file in monthlyFileContents:\n",
    "        total += sum([measurement['total']['count'] for measurement in file])\n",
    "    print(f'Total measurements from monthly measurement: {total:,}')\n",
    "    \n",
    "def monthlyMeasurementFragmentSeries():\n",
    "    monthlyFileContents = getFileContentsByFolder('measurements/fragmentSeries/')\n",
    "    total = 0\n",
    "    for file in monthlyFileContents:\n",
    "        for device in file:\n",
    "            for fragmentSeries in device['fragmentSeries']:\n",
    "                total += fragmentSeries['count']\n",
    "    print(f'Total measurements from monthly fragment + series: {total:,}')\n",
    "    \n",
    "    \n",
    "def monthlyMeasurementFragmentSeriesType():\n",
    "    monthlyFileContents = getFileContentsByFolder('measurements/fragmentSeriesType/')\n",
    "    total = 0\n",
    "    for file in monthlyFileContents:\n",
    "        for device in file:\n",
    "            for fragmentSeries in device['fragmentSeriesType']:\n",
    "                total += fragmentSeries['count']\n",
    "    print(f'Total measurements from monthly fragment + series + type: {total:,}')"
   ],
   "metadata": {
    "collapsed": false,
    "ExecuteTime": {
     "end_time": "2024-04-21T22:19:16.138242500Z",
     "start_time": "2024-04-21T22:19:16.121729600Z"
    }
   },
   "id": "c1614f959a9023ee",
   "execution_count": 26
  },
  {
   "cell_type": "code",
   "outputs": [],
   "source": [
    "def monthlyEventTotal():\n",
    "    monthlyFileContents = getFileContentsByFolder('events/total/')\n",
    "    total = 0\n",
    "    for file in monthlyFileContents:\n",
    "        total += sum([device['total']['count'] for device in file])\n",
    "    print(f'Total events from monthly events: {total:,}')\n",
    "\n",
    "def monthlyEventType():\n",
    "    monthlyFileContents = getFileContentsByFolder('events/type/')\n",
    "    total = 0\n",
    "    for file in monthlyFileContents:\n",
    "        for device in file:\n",
    "            for event in device['eventByType']:\n",
    "                total += event['count']\n",
    "    print(f'Total events from monthly events: {total:,}')"
   ],
   "metadata": {
    "collapsed": false,
    "ExecuteTime": {
     "end_time": "2024-04-22T22:13:05.352647Z",
     "start_time": "2024-04-22T22:13:05.349257100Z"
    }
   },
   "id": "6247bb40e9d1071d",
   "execution_count": 42
  },
  {
   "cell_type": "markdown",
   "source": [
    "## Data from 1. January 1970 to 1. April 2024"
   ],
   "metadata": {
    "collapsed": false
   },
   "id": "7b55704a47261870"
  },
  {
   "cell_type": "code",
   "outputs": [
    {
     "name": "stdout",
     "output_type": "stream",
     "text": [
      "Data from 1970-01-01 to 2024-04-01\n",
      "Total events : 280,372,171\n",
      "Total measurements : 767,458,293\n",
      "Devices that send measurements 64.07%\n",
      "Devices that send events 18.01%\n",
      "Oldest event 2016-11-03\n",
      "Latest event 2024-03-31\n",
      "Oldest measurement 2014-07-31\n",
      "Latest measurement 2024-04-01\n"
     ]
    }
   ],
   "source": [
    "statistics()"
   ],
   "metadata": {
    "collapsed": false,
    "ExecuteTime": {
     "end_time": "2024-04-21T12:38:02.679242900Z",
     "start_time": "2024-04-21T12:38:01.570869700Z"
    }
   },
   "id": "b11299f3fd0a1dc1",
   "execution_count": 4
  },
  {
   "cell_type": "code",
   "outputs": [
    {
     "name": "stdout",
     "output_type": "stream",
     "text": [
      "Total measurements from monthly measurement: 767,461,790\n",
      "Total measurements from monthly fragment + series: 924,055,277\n",
      "Total measurements from monthly fragment + series + type: 0\n"
     ]
    }
   ],
   "source": [
    "monthlyMeasurementTotal()\n",
    "monthlyMeasurementFragmentSeries()\n",
    "monthlyMeasurementFragmentSeriesType()"
   ],
   "metadata": {
    "collapsed": false,
    "ExecuteTime": {
     "end_time": "2024-04-22T18:05:59.226959300Z",
     "start_time": "2024-04-22T18:05:16.025438100Z"
    }
   },
   "id": "1f1f9c563d1f0319",
   "execution_count": 36
  },
  {
   "cell_type": "code",
   "outputs": [
    {
     "name": "stdout",
     "output_type": "stream",
     "text": [
      "Total events from monthly events: 279,565,535\n",
      "Total events from monthly events: 7,235\n"
     ]
    }
   ],
   "source": [
    "monthlyEventTotal()\n",
    "monthlyEventType()"
   ],
   "metadata": {
    "collapsed": false,
    "ExecuteTime": {
     "end_time": "2024-04-22T22:13:11.374933800Z",
     "start_time": "2024-04-22T22:13:06.939160600Z"
    }
   },
   "id": "4ac12251da082bbc",
   "execution_count": 43
  }
 ],
 "metadata": {
  "kernelspec": {
   "display_name": "Python 3",
   "language": "python",
   "name": "python3"
  },
  "language_info": {
   "codemirror_mode": {
    "name": "ipython",
    "version": 2
   },
   "file_extension": ".py",
   "mimetype": "text/x-python",
   "name": "python",
   "nbconvert_exporter": "python",
   "pygments_lexer": "ipython2",
   "version": "2.7.6"
  }
 },
 "nbformat": 4,
 "nbformat_minor": 5
}
