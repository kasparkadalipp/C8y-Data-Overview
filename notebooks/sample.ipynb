{
 "cells": [
  {
   "cell_type": "code",
   "outputs": [],
   "source": [
    "%load_ext autoreload\n",
    "%autoreload 2"
   ],
   "metadata": {
    "collapsed": false,
    "ExecuteTime": {
     "end_time": "2024-04-21T17:17:16.604661Z",
     "start_time": "2024-04-21T17:17:16.574087200Z"
    }
   },
   "id": "78aba71cd6659f02",
   "execution_count": 1
  },
  {
   "cell_type": "code",
   "outputs": [],
   "source": [
    "from dotenv import load_dotenv\n",
    "\n",
    "load_dotenv('.env.delta')\n",
    "%autoreload 2"
   ],
   "metadata": {
    "collapsed": false,
    "ExecuteTime": {
     "end_time": "2024-04-21T17:17:16.624574900Z",
     "start_time": "2024-04-21T17:17:16.598205100Z"
    }
   },
   "id": "e8e9258d175e3bf7",
   "execution_count": 2
  },
  {
   "cell_type": "code",
   "outputs": [],
   "source": [
    "from src.cumulocity import getCumulocityApi\n",
    "from src.dataRequests import getDeviceGroups, InitialRequests\n",
    "from src.utils import saveToFile\n",
    "\n",
    "c8y = getCumulocityApi()"
   ],
   "metadata": {
    "collapsed": false,
    "ExecuteTime": {
     "end_time": "2024-04-21T17:17:16.757998500Z",
     "start_time": "2024-04-21T17:17:16.621290900Z"
    }
   },
   "id": "691549cf1341f5e8",
   "execution_count": 3
  },
  {
   "cell_type": "code",
   "outputs": [],
   "source": [
    "import calendar\n",
    "from datetime import date\n",
    "from dateutil.relativedelta import relativedelta"
   ],
   "metadata": {
    "collapsed": false,
    "ExecuteTime": {
     "end_time": "2024-04-21T17:17:16.779315100Z",
     "start_time": "2024-04-21T17:17:16.754928400Z"
    }
   },
   "id": "30e4bac954c4b874",
   "execution_count": 4
  },
  {
   "cell_type": "markdown",
   "source": [
    "# Cumulocity Data"
   ],
   "metadata": {
    "collapsed": false
   },
   "id": "4731a9bb9e99a8d6"
  },
  {
   "cell_type": "code",
   "outputs": [
    {
     "name": "stdout",
     "output_type": "stream",
     "text": [
      "Total inventory items: 952\n"
     ]
    }
   ],
   "source": [
    "print(\"Total inventory items:\", c8y.device_inventory.get_count())"
   ],
   "metadata": {
    "collapsed": false,
    "ExecuteTime": {
     "end_time": "2024-04-21T17:17:17.129391100Z",
     "start_time": "2024-04-21T17:17:16.780348300Z"
    }
   },
   "id": "d7a402d0435df2c",
   "execution_count": 5
  },
  {
   "cell_type": "code",
   "outputs": [
    {
     "name": "stderr",
     "output_type": "stream",
     "text": [
      "Requesting groups: 100%|██████████| 2/2 [time elapsed: 00:00]\n"
     ]
    }
   ],
   "source": [
    "c8y_groups = getDeviceGroups()\n",
    "saveToFile(c8y_groups, \"delta/c8y_groups.json\", overwrite=True)"
   ],
   "metadata": {
    "collapsed": false,
    "ExecuteTime": {
     "end_time": "2024-04-21T17:17:17.427565600Z",
     "start_time": "2024-04-21T17:17:17.125138300Z"
    }
   },
   "id": "5ce2420738cd0ca8",
   "execution_count": 6
  },
  {
   "cell_type": "code",
   "outputs": [],
   "source": [
    "dateFrom = date(2024, calendar.MARCH, 1) # inclusive\n",
    "dateTo = dateFrom + relativedelta(months=1) # non-inclusive"
   ],
   "metadata": {
    "collapsed": false,
    "ExecuteTime": {
     "end_time": "2024-04-21T17:17:17.448914300Z",
     "start_time": "2024-04-21T17:17:17.423372300Z"
    }
   },
   "id": "d2907f7663ced33f",
   "execution_count": 7
  },
  {
   "cell_type": "code",
   "outputs": [
    {
     "name": "stderr",
     "output_type": "stream",
     "text": [
      "Requesting device inventory for depth 0: 100%|██████████| 11/11 [time elapsed: 00:00]\n",
      "Requesting device inventory for depth 1: 100%|██████████| 31/31 [time elapsed: 00:00]\n",
      "Requesting device inventory for depth 2: 100%|██████████| 106/106 [time elapsed: 00:02]\n",
      "Requesting device inventory for depth 3: 100%|██████████| 398/398 [time elapsed: 00:07]\n",
      "Requesting device inventory for depth 4: 100%|██████████| 119/119 [time elapsed: 00:02]\n",
      "Requesting device inventory for depth 5: 100%|██████████| 16/16 [time elapsed: 00:00]\n"
     ]
    },
    {
     "name": "stdout",
     "output_type": "stream",
     "text": []
    },
    {
     "name": "stderr",
     "output_type": "stream",
     "text": [
      "Requesting supported series: 100%|██████████| 681/681 [time elapsed: 00:26]\n",
      "Requesting total measurements: 100%|██████████| 681/681 [time elapsed: 00:26]\n",
      "Requesting total events: 100%|██████████| 681/681 [time elapsed: 00:25]\n"
     ]
    }
   ],
   "source": [
    "c8y_data = InitialRequests(dateFrom, dateTo).initializeData().c8y_data\n",
    "saveToFile(c8y_groups, \"delta/c8y_data.json\", overwrite=True)"
   ],
   "metadata": {
    "collapsed": false,
    "ExecuteTime": {
     "end_time": "2024-04-21T17:18:49.402863800Z",
     "start_time": "2024-04-21T17:17:17.448914300Z"
    }
   },
   "id": "5b4828f579dbbc5d",
   "execution_count": 8
  }
 ],
 "metadata": {
  "kernelspec": {
   "display_name": "Python 3",
   "language": "python",
   "name": "python3"
  },
  "language_info": {
   "codemirror_mode": {
    "name": "ipython",
    "version": 2
   },
   "file_extension": ".py",
   "mimetype": "text/x-python",
   "name": "python",
   "nbconvert_exporter": "python",
   "pygments_lexer": "ipython2",
   "version": "2.7.6"
  }
 },
 "nbformat": 4,
 "nbformat_minor": 5
}
