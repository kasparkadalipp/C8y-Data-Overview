{
 "cells": [
  {
   "cell_type": "code",
   "outputs": [],
   "source": [
    "import pandas as pd\n",
    "import pyperclip\n",
    "from genson import SchemaBuilder\n",
    "from collections import defaultdict\n",
    "from src.utils import fileNamesInFolder, readFile"
   ],
   "metadata": {
    "collapsed": false,
    "ExecuteTime": {
     "end_time": "2024-04-30T13:33:20.574703800Z",
     "start_time": "2024-04-30T13:33:20.569918200Z"
    }
   },
   "id": "b79a742f20a613ae",
   "execution_count": 42
  },
  {
   "cell_type": "code",
   "outputs": [],
   "source": [
    "def createSchema(event):\n",
    "    alwaysPresentKeys = [\"lastUpdated\", \"creationTime\", \"self\", \"source\", \"time\", \"id\", \"text\", \"type\"]\n",
    "    builder = SchemaBuilder(schema_uri=False)\n",
    "    if isinstance(event, list):\n",
    "        for item in event:\n",
    "            builder.add_object({key: value for key, value in item.items() if key not in alwaysPresentKeys})\n",
    "    else:\n",
    "        builder.add_object({key: value for key, value in event.items() if key not in alwaysPresentKeys})\n",
    "    jsonSchema = builder.to_schema()\n",
    "    return jsonSchema"
   ],
   "metadata": {
    "collapsed": false,
    "ExecuteTime": {
     "end_time": "2024-04-30T09:54:26.687824800Z",
     "start_time": "2024-04-30T09:54:26.682983300Z"
    }
   },
   "id": "6c487e2f03e06366",
   "execution_count": 8
  },
  {
   "cell_type": "code",
   "outputs": [],
   "source": [
    "folder = \"telia/events/type/\"\n",
    "\n",
    "eventTypeMapping = defaultdict(lambda : {'schema': SchemaBuilder(schema_uri=False), 'count': 0, 'example': {}})\n",
    "\n",
    "for fileName in fileNamesInFolder('../data/' + folder):  \n",
    "    for event in readFile(folder + fileName):\n",
    "        eventTypeSum = 0\n",
    "        deviceId = event['deviceId']\n",
    "        for eventTypeObj in event['eventByType']:\n",
    "            eventType = eventTypeObj['type']\n",
    "            event = eventTypeObj['event']\n",
    "            count = eventTypeObj['count']\n",
    "            if event:\n",
    "                jsonSchema = createSchema(event)\n",
    "                eventTypeMapping[eventType]['schema'].add_schema(jsonSchema)\n",
    "                eventTypeMapping[eventType]['count'] += count\n",
    "                eventTypeMapping[eventType]['example'] = event"
   ],
   "metadata": {
    "collapsed": true,
    "ExecuteTime": {
     "end_time": "2024-04-30T09:55:17.132266900Z",
     "start_time": "2024-04-30T09:55:09.831128300Z"
    }
   },
   "id": "initial_id",
   "execution_count": 11
  },
  {
   "cell_type": "code",
   "outputs": [],
   "source": [
    "data = []\n",
    "for eventType, values in eventTypeMapping.items():\n",
    "    row = {'eventType': eventType, 'count': values['count'], 'jsonSchema': str(values['schema'].to_schema()).replace(\"'\", '\"'), 'example': values['example']}\n",
    "    data.append(row)\n",
    "    \n",
    "df = pd.DataFrame(data)\n",
    "df.to_csv(\"eventSchema.csv\", index=False)"
   ],
   "metadata": {
    "collapsed": false,
    "ExecuteTime": {
     "end_time": "2024-04-30T13:18:58.438495400Z",
     "start_time": "2024-04-30T13:18:58.425712200Z"
    }
   },
   "id": "9796370b07dcb6fd",
   "execution_count": 37
  },
  {
   "cell_type": "code",
   "outputs": [
    {
     "name": "stdout",
     "output_type": "stream",
     "text": [
      "com_cityntel_status\n"
     ]
    }
   ],
   "source": [
    "index = 0\n",
    "print(data[index]['eventType'])\n",
    "pyperclip.copy(data[index]['jsonSchema'])"
   ],
   "metadata": {
    "collapsed": false,
    "ExecuteTime": {
     "end_time": "2024-04-30T13:33:37.503571400Z",
     "start_time": "2024-04-30T13:33:37.482859300Z"
    }
   },
   "id": "90054d49ae8313d4",
   "execution_count": 44
  }
 ],
 "metadata": {
  "kernelspec": {
   "display_name": "Python 3",
   "language": "python",
   "name": "python3"
  },
  "language_info": {
   "codemirror_mode": {
    "name": "ipython",
    "version": 2
   },
   "file_extension": ".py",
   "mimetype": "text/x-python",
   "name": "python",
   "nbconvert_exporter": "python",
   "pygments_lexer": "ipython2",
   "version": "2.7.6"
  }
 },
 "nbformat": 4,
 "nbformat_minor": 5
}
