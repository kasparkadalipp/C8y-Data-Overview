{
 "cells": [
  {
   "cell_type": "code",
   "outputs": [],
   "source": [
    "%load_ext autoreload\n",
    "%autoreload 2"
   ],
   "metadata": {
    "collapsed": false
   },
   "id": "99096edfcd459488",
   "execution_count": null
  },
  {
   "cell_type": "code",
   "outputs": [],
   "source": [
    "from src.topic_model.chatgpt_describe_data import describeDeviceData\n",
    "from src.topic_model.hierarchical_topic_model import createTopicModel"
   ],
   "metadata": {
    "collapsed": false
   },
   "id": "b5d0a2a88479277a",
   "execution_count": null
  },
  {
   "cell_type": "markdown",
   "source": [
    "### Describe data with chatGPT-4-Turbo"
   ],
   "metadata": {
    "collapsed": false
   },
   "id": "985bc607322f5bc1"
  },
  {
   "cell_type": "code",
   "outputs": [],
   "source": [
    "describeDeviceData(model=\"gpt-3.5-turbo\")"
   ],
   "metadata": {
    "collapsed": false
   },
   "id": "3888239e52478ebc",
   "execution_count": null
  },
  {
   "cell_type": "markdown",
   "source": [
    "# Topic Model"
   ],
   "metadata": {
    "collapsed": false
   },
   "id": "32145d19f66b3e5"
  },
  {
   "cell_type": "code",
   "outputs": [],
   "source": [
    "topic_model, hierarchical_topics, topics, probs, custom_label = createTopicModel(model=\"gpt-3.5-turbo\")"
   ],
   "metadata": {
    "collapsed": false
   },
   "id": "c1186a39987f3f51",
   "execution_count": null
  },
  {
   "cell_type": "code",
   "outputs": [],
   "source": [
    "topic_model.visualize_hierarchy(hierarchical_topics=hierarchical_topics)"
   ],
   "metadata": {
    "collapsed": false
   },
   "id": "ff91878f020d81f",
   "execution_count": null
  },
  {
   "cell_type": "code",
   "outputs": [],
   "source": [
    "topic_model.set_topic_labels(custom_label)\n",
    "topic_model.visualize_hierarchy(hierarchical_topics=hierarchical_topics, custom_labels=custom_label)"
   ],
   "metadata": {
    "collapsed": false
   },
   "id": "dd66a99f24503664",
   "execution_count": null
  }
 ],
 "metadata": {
  "kernelspec": {
   "display_name": "Python 3",
   "language": "python",
   "name": "python3"
  },
  "language_info": {
   "codemirror_mode": {
    "name": "ipython",
    "version": 2
   },
   "file_extension": ".py",
   "mimetype": "text/x-python",
   "name": "python",
   "nbconvert_exporter": "python",
   "pygments_lexer": "ipython2",
   "version": "2.7.6"
  }
 },
 "nbformat": 4,
 "nbformat_minor": 5
}
