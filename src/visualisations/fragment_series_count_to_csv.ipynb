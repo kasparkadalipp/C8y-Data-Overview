{
 "cells": [
  {
   "cell_type": "code",
   "outputs": [],
   "source": [
    "import json\n",
    "import os\n",
    "import pandas as pd\n",
    "import re\n",
    "from collections import defaultdict"
   ],
   "metadata": {
    "collapsed": false,
    "ExecuteTime": {
     "end_time": "2024-04-23T06:47:49.806082600Z",
     "start_time": "2024-04-23T06:47:47.811615600Z"
    }
   },
   "id": "728cae0f2ab5bc2d",
   "execution_count": 1
  },
  {
   "cell_type": "markdown",
   "source": [
    "# Config"
   ],
   "metadata": {
    "collapsed": false
   },
   "id": "c272fa2176ad0278"
  },
  {
   "cell_type": "code",
   "outputs": [],
   "source": [
    "basePath = '../../data/telia/'"
   ],
   "metadata": {
    "collapsed": false,
    "ExecuteTime": {
     "end_time": "2024-04-23T06:47:49.813233200Z",
     "start_time": "2024-04-23T06:47:49.806082600Z"
    }
   },
   "id": "a2a195ca193dd86c",
   "execution_count": 2
  },
  {
   "cell_type": "markdown",
   "source": [
    "### File operations"
   ],
   "metadata": {
    "collapsed": false
   },
   "id": "7147b7ff56402264"
  },
  {
   "cell_type": "code",
   "outputs": [],
   "source": [
    "with open(basePath + 'c8y_data.json', 'r', encoding='utf8') as json_file:\n",
    "    c8y_data = json.load(json_file)"
   ],
   "metadata": {
    "collapsed": false,
    "ExecuteTime": {
     "end_time": "2024-04-23T06:47:50.478536400Z",
     "start_time": "2024-04-23T06:47:49.811233600Z"
    }
   },
   "id": "5f4b04b8243abc35",
   "execution_count": 3
  },
  {
   "cell_type": "code",
   "outputs": [],
   "source": [
    "def getFilePaths(path):\n",
    "    if not os.path.exists(path):\n",
    "        print('Folder does not exist: ' + path)\n",
    "        return []\n",
    "    fileNames = os.listdir(path)\n",
    "    return [path + file for file in fileNames]\n",
    "\n",
    "\n",
    "def getFileContents(filePath):\n",
    "    with open(filePath, 'r', encoding='utf8') as json_file:\n",
    "        return json.load(json_file)\n",
    "\n",
    "\n",
    "def getFileContentsByFolder(folderPath):\n",
    "    return [getFileContents(filePath) for filePath in getFilePaths(folderPath)]\n"
   ],
   "metadata": {
    "collapsed": false,
    "ExecuteTime": {
     "end_time": "2024-04-23T06:47:50.479536600Z",
     "start_time": "2024-04-23T06:47:50.477536700Z"
    }
   },
   "id": "bb9021d38868e1db",
   "execution_count": 4
  },
  {
   "cell_type": "markdown",
   "source": [
    "### Count fragment + series"
   ],
   "metadata": {
    "collapsed": false
   },
   "id": "403636e22d80ae36"
  },
  {
   "cell_type": "code",
   "outputs": [],
   "source": [
    "def getFragmentSeriesCount():\n",
    "    fragmentSeriesCount = defaultdict(lambda: {'count': 0, 'unit': set(), 'value': set()})\n",
    "    \n",
    "    folder = basePath + 'measurements/fragmentSeries/'\n",
    "    for jsonFile in getFileContentsByFolder(folder):\n",
    "        for device in jsonFile:\n",
    "            for measurement in device['fragmentSeries']:\n",
    "                fragment = measurement['fragment']\n",
    "                series = measurement['series']\n",
    "                count = measurement['count']\n",
    "                fragmentSeriesCount[(fragment, series)]['count'] += count\n",
    "    return fragmentSeriesCount"
   ],
   "metadata": {
    "collapsed": false,
    "ExecuteTime": {
     "end_time": "2024-04-23T06:47:50.506026Z",
     "start_time": "2024-04-23T06:47:50.479536600Z"
    }
   },
   "id": "d21e96595a0581bc",
   "execution_count": 5
  },
  {
   "cell_type": "markdown",
   "source": [
    "### Add values and units"
   ],
   "metadata": {
    "collapsed": false
   },
   "id": "81a15db01c3045ff"
  },
  {
   "cell_type": "code",
   "outputs": [],
   "source": [
    "def _createMeasurementMapping():\n",
    "    measureMapping = {}\n",
    "    for device in c8y_data:\n",
    "        measureMapping[device['id']] = {\n",
    "            'deviceId': device['id'],\n",
    "            'deviceType': device['type'],\n",
    "            'count': 0,\n",
    "            'measurement': []\n",
    "        }\n",
    "    return measureMapping\n",
    "\n",
    "def _combineMeasurementFileData(idMapping, folderPaths):\n",
    "    for folder in folderPaths:\n",
    "        for jsonFile in getFileContentsByFolder(folder):\n",
    "            for device in jsonFile:\n",
    "                deviceId = device['deviceId']\n",
    "                if 'total' in device and device['total']['count'] > 0:\n",
    "                    idMapping[deviceId]['count'] = device['total']['count']\n",
    "                    if 'measurement' in device['total']:\n",
    "                        idMapping[deviceId]['measurement'].append(device['total']['measurement'])\n",
    "\n",
    "                if 'fragmentSeries' in device:\n",
    "                    for fragmentSeries in device['fragmentSeries']:\n",
    "                        if fragmentSeries['measurement']:\n",
    "                            idMapping[deviceId]['measurement'].append(fragmentSeries['measurement'])\n",
    "    return idMapping\n",
    "\n",
    "def combineMeasurementFileData():\n",
    "    measureMapping = _createMeasurementMapping()\n",
    "    folders = ['total', 'fragmentSeries']\n",
    "    folderPaths = [basePath + 'measurements/' + folder + '/' for folder in folders]\n",
    "    return _combineMeasurementFileData(measureMapping, folderPaths)"
   ],
   "metadata": {
    "collapsed": false,
    "ExecuteTime": {
     "end_time": "2024-04-23T06:47:50.507038500Z",
     "start_time": "2024-04-23T06:47:50.491789300Z"
    }
   },
   "id": "5c7a9d7166c3f218",
   "execution_count": 6
  },
  {
   "cell_type": "code",
   "outputs": [],
   "source": [
    "def addValuesAndUnits(measurementMapping, countDictionary):\n",
    "    for device in measurementMapping.values():\n",
    "        for measurementObj in device['measurement']:\n",
    "            alwaysPresentKeys = [\"lastUpdated\", \"creationTime\", \"self\", \"source\", \"time\", \"id\", \"text\"] + ['type']\n",
    "            measurement = {key: value for key, value in measurementObj.items() if key not in alwaysPresentKeys}\n",
    "    \n",
    "            for fragment, fragmentObj in measurement.items():\n",
    "                if fragmentObj is None:\n",
    "                    continue\n",
    "                for series, seriesObj in fragmentObj.items():\n",
    "                    if (fragment, series) not in countDictionary:\n",
    "                        continue\n",
    "                    value = seriesObj['value'] if 'value' in seriesObj else None\n",
    "                    countDictionary[(fragment, series)]['value'].add(value)\n",
    "    \n",
    "                    unit = seriesObj['unit'] if 'unit' in seriesObj else None\n",
    "                    countDictionary[(fragment, series)]['unit'].add(unit)"
   ],
   "metadata": {
    "collapsed": false,
    "ExecuteTime": {
     "end_time": "2024-04-23T06:47:50.539537700Z",
     "start_time": "2024-04-23T06:47:50.495951Z"
    }
   },
   "id": "2d219c13509a281f",
   "execution_count": 7
  },
  {
   "cell_type": "markdown",
   "source": [
    "### Filter dataset"
   ],
   "metadata": {
    "collapsed": false
   },
   "id": "fc1d04b4559027c9"
  },
  {
   "cell_type": "code",
   "outputs": [],
   "source": [
    "def fixSensorName(name):\n",
    "    match = re.match(\"^(sensor)_\\\\d{1,4}(.*)\", name)  # sensor_1235_daily -> sensor_daily\n",
    "    if match:\n",
    "        return match.group(1) + match.group(2)\n",
    "    return name\n",
    "\n",
    "def filterDateset(originalDateset):\n",
    "    filteredDataset = defaultdict(lambda : {'count': 0, 'unit': set(), 'value': set()})\n",
    "    for key, fragmentSeries in originalDateset.items():\n",
    "        fragment, series = key\n",
    "        fragment = fixSensorName(fragment)\n",
    "    \n",
    "        filteredDataset[(fragment, series)]['count'] += fragmentSeries['count']\n",
    "        filteredDataset[(fragment, series)]['unit'] = fragmentSeries['unit'].union(fragmentSeries['unit'])\n",
    "        filteredDataset[(fragment, series)]['value']= fragmentSeries['value'].union(fragmentSeries['value'])\n",
    "    return filteredDataset"
   ],
   "metadata": {
    "collapsed": false,
    "ExecuteTime": {
     "end_time": "2024-04-23T06:47:50.540538Z",
     "start_time": "2024-04-23T06:47:50.504934600Z"
    }
   },
   "id": "b533f3f7479c701d",
   "execution_count": 8
  },
  {
   "cell_type": "markdown",
   "source": [
    "### Save csv"
   ],
   "metadata": {
    "collapsed": false
   },
   "id": "21882ba19b182966"
  },
  {
   "cell_type": "code",
   "outputs": [],
   "source": [
    "def findMinAndMaxValues(inputValues):\n",
    "    values = [num for num in inputValues if num is not None]\n",
    "    minValue = min(values) if values else ''\n",
    "    maxValue = max(values) if values else ''\n",
    "    return minValue, maxValue\n",
    "\n",
    "def unitRepresentation(unit):\n",
    "    unit = list(unit)\n",
    "    if len(unit) == 1:\n",
    "        return unit[0]\n",
    "    if len(unit) == 0:\n",
    "        return ''\n",
    "    return unit\n",
    "\n",
    "def saveToCsv(data, fileName):\n",
    "    fullData = []\n",
    "    for key, value in data.items():\n",
    "        fragment, series = key\n",
    "        unit = unitRepresentation(value['unit'])\n",
    "        count = value['count']\n",
    "        minValue, maxValue = findMinAndMaxValues(value['value'])\n",
    "        fullData.append((fragment, series, count, unit, minValue, maxValue))\n",
    "    \n",
    "    df = pd.DataFrame(fullData, columns=['fragment', 'series', 'count', 'unit', 'minValue', 'maxValue'])\n",
    "    df.to_csv(fileName, index=False, encoding='utf-8-sig')"
   ],
   "metadata": {
    "collapsed": false,
    "ExecuteTime": {
     "end_time": "2024-04-23T06:47:50.541539700Z",
     "start_time": "2024-04-23T06:47:50.511034200Z"
    }
   },
   "id": "a02b059a638b94ee",
   "execution_count": 9
  },
  {
   "cell_type": "markdown",
   "source": [
    "### Current dataset"
   ],
   "metadata": {
    "collapsed": false
   },
   "id": "1a702ddf1a7c7f99"
  },
  {
   "cell_type": "code",
   "outputs": [],
   "source": [
    "measurementMapping = combineMeasurementFileData()\n",
    "fragmentSeriesCount = getFragmentSeriesCount()\n",
    "addValuesAndUnits(measurementMapping, fragmentSeriesCount)"
   ],
   "metadata": {
    "collapsed": false,
    "ExecuteTime": {
     "end_time": "2024-04-23T06:49:58.518108700Z",
     "start_time": "2024-04-23T06:47:50.515540Z"
    }
   },
   "id": "c169f8acec99c9cc",
   "execution_count": 10
  },
  {
   "cell_type": "code",
   "outputs": [],
   "source": [
    "saveToCsv(fragmentSeriesCount, 'measurement fragment + series .csv')"
   ],
   "metadata": {
    "collapsed": false,
    "ExecuteTime": {
     "end_time": "2024-04-23T06:49:58.587237Z",
     "start_time": "2024-04-23T06:49:58.519114300Z"
    }
   },
   "id": "c6946328a807a7f3",
   "execution_count": 11
  },
  {
   "cell_type": "markdown",
   "source": [
    "### Filtered dataset"
   ],
   "metadata": {
    "collapsed": false
   },
   "id": "3f4b3899a58dcc6e"
  },
  {
   "cell_type": "code",
   "outputs": [],
   "source": [
    "filteredFragmentSeriesCount = filterDateset(fragmentSeriesCount)"
   ],
   "metadata": {
    "collapsed": false,
    "ExecuteTime": {
     "end_time": "2024-04-23T06:49:58.629066800Z",
     "start_time": "2024-04-23T06:49:58.618236500Z"
    }
   },
   "id": "ad2a46b56cc5fe7b",
   "execution_count": 12
  },
  {
   "cell_type": "markdown",
   "source": [],
   "metadata": {
    "collapsed": false
   },
   "id": "330f3354366b2821"
  },
  {
   "cell_type": "code",
   "outputs": [],
   "source": [
    "saveToCsv(filteredFragmentSeriesCount, 'measurement fragment + series (filtered).csv')"
   ],
   "metadata": {
    "collapsed": false,
    "ExecuteTime": {
     "end_time": "2024-04-23T06:49:58.677800200Z",
     "start_time": "2024-04-23T06:49:58.625041300Z"
    }
   },
   "id": "20cfcd5db7ddd93b",
   "execution_count": 13
  }
 ],
 "metadata": {
  "kernelspec": {
   "display_name": "Python 3",
   "language": "python",
   "name": "python3"
  },
  "language_info": {
   "codemirror_mode": {
    "name": "ipython",
    "version": 2
   },
   "file_extension": ".py",
   "mimetype": "text/x-python",
   "name": "python",
   "nbconvert_exporter": "python",
   "pygments_lexer": "ipython2",
   "version": "2.7.6"
  }
 },
 "nbformat": 4,
 "nbformat_minor": 5
}
